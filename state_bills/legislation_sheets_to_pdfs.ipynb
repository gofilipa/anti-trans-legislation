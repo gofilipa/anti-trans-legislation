{
 "cells": [
  {
   "cell_type": "code",
   "execution_count": 6,
   "metadata": {
    "colab": {
     "base_uri": "https://localhost:8080/"
    },
    "id": "ns7fP3gju_i6",
    "outputId": "df2815a8-9088-4f52-925e-4dbf90a98226"
   },
   "outputs": [],
   "source": [
    "from selenium import webdriver"
   ]
  },
  {
   "cell_type": "code",
   "execution_count": 1,
   "metadata": {
    "id": "0cKNAAqegj0R"
   },
   "outputs": [],
   "source": [
    "import requests\n",
    "import pandas as pd\n",
    "\n",
    "df = pd.read_csv('tracker.csv')"
   ]
  },
  {
   "cell_type": "code",
   "execution_count": 2,
   "metadata": {},
   "outputs": [],
   "source": [
    "import gdown"
   ]
  },
  {
   "cell_type": "code",
   "execution_count": 3,
   "metadata": {},
   "outputs": [
    {
     "data": {
      "text/plain": [
       "0       HB261\n",
       "1       SB261\n",
       "2      HB1156\n",
       "3      HB1468\n",
       "4      HB1615\n",
       "        ...  \n",
       "532    SF0111\n",
       "533    SF0144\n",
       "534    HB0234\n",
       "535    HB0187\n",
       "536    SF0133\n",
       "Name: Number, Length: 537, dtype: object"
      ]
     },
     "execution_count": 3,
     "metadata": {},
     "output_type": "execute_result"
    }
   ],
   "source": [
    "df['Number']"
   ]
  },
  {
   "cell_type": "code",
   "execution_count": 4,
   "metadata": {
    "colab": {
     "base_uri": "https://localhost:8080/"
    },
    "id": "KqXa3cjVhZYz",
    "outputId": "0d49c045-d143-4065-ab0a-d06b723c37c9"
   },
   "outputs": [
    {
     "data": {
      "text/plain": [
       "0      https://drive.google.com/open?id=1VpM1c8b1doTu...\n",
       "1      https://drive.google.com/open?id=18nIIg5vzKrzu...\n",
       "2      https://drive.google.com/open?id=1rxPjxXB2796T...\n",
       "3      https://drive.google.com/open?id=1X2ssjuLLbbAX...\n",
       "4      https://drive.google.com/open?id=1YtIsIczW8dv7...\n",
       "                             ...                        \n",
       "532    https://drive.google.com/open?id=11Td-Ybl9Mcb-...\n",
       "533    https://drive.google.com/open?id=1eMhBhfhmG9MP...\n",
       "534    https://drive.google.com/open?id=1Emst06Gp5iDX...\n",
       "535    https://drive.google.com/open?id=1mz4Nh63NKTKp...\n",
       "536    https://drive.google.com/open?id=1UmNw35qYPvRo...\n",
       "Name: Bill PDF Direct, Length: 537, dtype: object"
      ]
     },
     "execution_count": 4,
     "metadata": {},
     "output_type": "execute_result"
    }
   ],
   "source": [
    "df['Bill PDF Direct']"
   ]
  },
  {
   "cell_type": "code",
   "execution_count": 72,
   "metadata": {},
   "outputs": [
    {
     "data": {
      "text/plain": [
       "'SB0487'"
      ]
     },
     "execution_count": 72,
     "metadata": {},
     "output_type": "execute_result"
    }
   ],
   "source": [
    "df['Number'][71]"
   ]
  },
  {
   "cell_type": "code",
   "execution_count": 77,
   "metadata": {},
   "outputs": [
    {
     "data": {
      "text/plain": [
       "'H458'"
      ]
     },
     "execution_count": 77,
     "metadata": {},
     "output_type": "execute_result"
    }
   ],
   "source": [
    "df['Number'][144]"
   ]
  },
  {
   "cell_type": "code",
   "execution_count": 82,
   "metadata": {},
   "outputs": [
    {
     "data": {
      "text/plain": [
       "'HB170'"
      ]
     },
     "execution_count": 82,
     "metadata": {},
     "output_type": "execute_result"
    }
   ],
   "source": [
    "df['Number'][218]"
   ]
  },
  {
   "cell_type": "code",
   "execution_count": 92,
   "metadata": {},
   "outputs": [
    {
     "data": {
      "text/plain": [
       "221       SB2\n",
       "222      SB29\n",
       "223      SB42\n",
       "224      SB48\n",
       "225      SB87\n",
       "        ...  \n",
       "532    SF0111\n",
       "533    SF0144\n",
       "534    HB0234\n",
       "535    HB0187\n",
       "536    SF0133\n",
       "Name: Number, Length: 316, dtype: object"
      ]
     },
     "execution_count": 92,
     "metadata": {},
     "output_type": "execute_result"
    }
   ],
   "source": [
    "df['Number'][221]"
   ]
  },
  {
   "cell_type": "code",
   "execution_count": 97,
   "metadata": {},
   "outputs": [
    {
     "data": {
      "text/plain": [
       "'SB408'"
      ]
     },
     "execution_count": 97,
     "metadata": {},
     "output_type": "execute_result"
    }
   ],
   "source": [
    "df['Number'][298]"
   ]
  },
  {
   "cell_type": "code",
   "execution_count": 100,
   "metadata": {},
   "outputs": [
    {
     "data": {
      "text/plain": [
       "'SB1440'"
      ]
     },
     "execution_count": 100,
     "metadata": {},
     "output_type": "execute_result"
    }
   ],
   "source": [
    "df['Number'][377]"
   ]
  },
  {
   "cell_type": "code",
   "execution_count": 108,
   "metadata": {},
   "outputs": [
    {
     "data": {
      "text/plain": [
       "'HB216'"
      ]
     },
     "execution_count": 108,
     "metadata": {},
     "output_type": "execute_result"
    }
   ],
   "source": [
    "df['Number'][462]"
   ]
  },
  {
   "cell_type": "code",
   "execution_count": 110,
   "metadata": {},
   "outputs": [
    {
     "data": {
      "text/plain": [
       "'HB0329'"
      ]
     },
     "execution_count": 110,
     "metadata": {},
     "output_type": "execute_result"
    }
   ],
   "source": [
    "df['Number'][486]"
   ]
  },
  {
   "cell_type": "code",
   "execution_count": 9,
   "metadata": {},
   "outputs": [
    {
     "data": {
      "text/plain": [
       "'SB103'"
      ]
     },
     "execution_count": 9,
     "metadata": {},
     "output_type": "execute_result"
    }
   ],
   "source": [
    "df['Number'][509]"
   ]
  },
  {
   "cell_type": "code",
   "execution_count": 10,
   "metadata": {},
   "outputs": [],
   "source": [
    "driver = webdriver.Chrome('chrome/chromedriver')"
   ]
  },
  {
   "cell_type": "code",
   "execution_count": 12,
   "metadata": {
    "id": "HgCoxTssushw"
   },
   "outputs": [
    {
     "name": "stderr",
     "output_type": "stream",
     "text": [
      "Downloading...\n",
      "From: https://drive.google.com/uc?id=1jnG0bAtu8V4IJVC96_5HhDSLGMzGy6WO\n",
      "To: /Users/caladof/Desktop/anti-trans/anti-trans-legislation/state_bills/West Virginia_SB103.pdf\n",
      "100%|██████████████████████████████████████| 6.13k/6.13k [00:00<00:00, 14.6MB/s]\n",
      "Downloading...\n",
      "From: https://drive.google.com/uc?id=1ypauEmN-QewLRL0akMKwaUdcTq9ldF4L\n",
      "To: /Users/caladof/Desktop/anti-trans/anti-trans-legislation/state_bills/West Virginia_SB252.pdf\n",
      "100%|██████████████████████████████████████| 18.5k/18.5k [00:00<00:00, 5.20MB/s]\n",
      "Downloading...\n",
      "From: https://drive.google.com/uc?id=1hQh9UyWoT3vGi-2ZcReLl_SAsh4kAxJ3\n",
      "To: /Users/caladof/Desktop/anti-trans/anti-trans-legislation/state_bills/West Virginia_SB253.pdf\n",
      "100%|██████████████████████████████████████| 5.73k/5.73k [00:00<00:00, 6.73MB/s]\n",
      "Downloading...\n",
      "From: https://drive.google.com/uc?id=1ddzCFj_YLIIiHRTWO1vsSTtf2r-4AKP5\n",
      "To: /Users/caladof/Desktop/anti-trans/anti-trans-legislation/state_bills/West Virginia_SB278.pdf\n",
      "100%|██████████████████████████████████████| 39.3k/39.3k [00:00<00:00, 16.0MB/s]\n",
      "Downloading...\n",
      "From: https://drive.google.com/uc?id=1SnMFyOaGVEQKSbaUZ5kddOK4MDDTlbyr\n",
      "To: /Users/caladof/Desktop/anti-trans/anti-trans-legislation/state_bills/West Virginia_HB2125.pdf\n",
      "100%|██████████████████████████████████████| 29.7k/29.7k [00:00<00:00, 17.6MB/s]\n",
      "Downloading...\n",
      "From: https://drive.google.com/uc?id=10M8QlWYhAJvtztzEVMKNhvRGMd_HcNTn\n",
      "To: /Users/caladof/Desktop/anti-trans/anti-trans-legislation/state_bills/West Virginia_HB3001.pdf\n",
      "100%|██████████████████████████████████████| 15.5k/15.5k [00:00<00:00, 19.5MB/s]\n",
      "Downloading...\n",
      "From: https://drive.google.com/uc?id=1MBwZ9uMBCtVqUlKny8I9PgvLJ8Pm3QOu\n",
      "To: /Users/caladof/Desktop/anti-trans/anti-trans-legislation/state_bills/West Virginia_HB3183.pdf\n",
      "100%|██████████████████████████████████████| 12.2k/12.2k [00:00<00:00, 19.7MB/s]\n",
      "Downloading...\n",
      "From: https://drive.google.com/uc?id=1Ka_C4A7LHLHlZqZ2q_R0K1V9aOkTdkst\n",
      "To: /Users/caladof/Desktop/anti-trans/anti-trans-legislation/state_bills/West Virginia_HB2007.pdf\n",
      "100%|██████████████████████████████████████| 6.07k/6.07k [00:00<00:00, 4.98MB/s]\n",
      "Downloading...\n",
      "From: https://drive.google.com/uc?id=18iCwEdPnLgnIQlCWh4vcVRkYrZj_nMCK\n",
      "To: /Users/caladof/Desktop/anti-trans/anti-trans-legislation/state_bills/West Virginia_HB2972.pdf\n",
      "100%|██████████████████████████████████████| 5.41k/5.41k [00:00<00:00, 10.6MB/s]\n",
      "Downloading...\n",
      "From: https://drive.google.com/uc?id=1mwSLoUQCjop3UmVYQOpg9NwClc0Qazgz\n",
      "To: /Users/caladof/Desktop/anti-trans/anti-trans-legislation/state_bills/West Virginia_HB3097.pdf\n",
      "100%|██████████████████████████████████████| 6.71k/6.71k [00:00<00:00, 5.38MB/s]\n",
      "Downloading...\n",
      "From: https://drive.google.com/uc?id=18aoyURHsB-HaKenDzBkI0K-X1LAm6zRF\n",
      "To: /Users/caladof/Desktop/anti-trans/anti-trans-legislation/state_bills/West Virginia_SB692.pdf\n",
      "100%|██████████████████████████████████████| 17.9k/17.9k [00:00<00:00, 14.6MB/s]\n",
      "Downloading...\n",
      "From: https://drive.google.com/uc?id=1qwZsB5AaAW3qzcq9zA5esahZQzQSntUx\n",
      "To: /Users/caladof/Desktop/anti-trans/anti-trans-legislation/state_bills/West Virginia_SB697.pdf\n",
      "100%|██████████████████████████████████████| 21.6k/21.6k [00:00<00:00, 11.1MB/s]\n",
      "Downloading...\n",
      "From: https://drive.google.com/uc?id=1O9pt1Y5Vwk_4rQwAT63rSX2IxKef91pt\n",
      "To: /Users/caladof/Desktop/anti-trans/anti-trans-legislation/state_bills/West Virginia_SB517.pdf\n",
      "100%|██████████████████████████████████████| 22.1k/22.1k [00:00<00:00, 6.83MB/s]\n",
      "Downloading...\n",
      "From: https://drive.google.com/uc?id=1DsjzWDxHnNIAaNgT8no3qu7XrEWuDh7d\n",
      "To: /Users/caladof/Desktop/anti-trans/anti-trans-legislation/state_bills/Wisconsin_SB4.pdf\n",
      "100%|██████████████████████████████████████| 40.2k/40.2k [00:00<00:00, 13.4MB/s]\n",
      "Downloading...\n",
      "From: https://drive.google.com/uc?id=1rD11PC0y1jOStCjLxh1pRDTN8ufkLY70\n",
      "To: /Users/caladof/Desktop/anti-trans/anti-trans-legislation/state_bills/Wisconsin_SB480.pdf\n",
      "100%|██████████████████████████████████████| 55.5k/55.5k [00:00<00:00, 12.9MB/s]\n",
      "Downloading...\n",
      "From: https://drive.google.com/uc?id=1cZUbCjkssRBR2EPmmWLuKkoAHOjW4oHR\n",
      "To: /Users/caladof/Desktop/anti-trans/anti-trans-legislation/state_bills/Wisconsin_AB465.pdf\n",
      "100%|██████████████████████████████████████| 55.8k/55.8k [00:00<00:00, 9.83MB/s]\n",
      "Downloading...\n",
      "From: https://drive.google.com/uc?id=18HOwgt6a0nc2GTlKQDK9DmoCot-e6Rmx\n",
      "To: /Users/caladof/Desktop/anti-trans/anti-trans-legislation/state_bills/Wisconsin_SB479.pdf\n",
      "100%|██████████████████████████████████████| 58.2k/58.2k [00:00<00:00, 9.88MB/s]\n",
      "Downloading...\n",
      "From: https://drive.google.com/uc?id=1C7zPmGnv0FnuBV3fj3za0l6ATXqEvocl\n",
      "To: /Users/caladof/Desktop/anti-trans/anti-trans-legislation/state_bills/Wisconsin_AB502.pdf\n",
      "100%|██████████████████████████████████████| 58.4k/58.4k [00:00<00:00, 21.6MB/s]\n",
      "Downloading...\n",
      "From: https://drive.google.com/uc?id=1L9ifkfUwSTjW_Sv7xiLIkyhLutKs4sWw\n",
      "To: /Users/caladof/Desktop/anti-trans/anti-trans-legislation/state_bills/Wisconsin_SB438.pdf\n",
      "100%|██████████████████████████████████████| 46.4k/46.4k [00:00<00:00, 21.2MB/s]\n",
      "Downloading...\n",
      "From: https://drive.google.com/uc?id=1nU-WwLDQYOI249dp3Z_ZGN3vYwKLxWby\n",
      "To: /Users/caladof/Desktop/anti-trans/anti-trans-legislation/state_bills/Wisconsin_AB447.pdf\n",
      "100%|██████████████████████████████████████| 46.6k/46.6k [00:00<00:00, 20.6MB/s]\n",
      "Downloading...\n",
      "From: https://drive.google.com/uc?id=1cHgLz8TfsuzGv54-2JPpl_Gk0aXFWbXG\n",
      "To: /Users/caladof/Desktop/anti-trans/anti-trans-legislation/state_bills/Wyoming_SF0159.pdf\n",
      "100%|██████████████████████████████████████| 26.0k/26.0k [00:00<00:00, 13.3MB/s]\n",
      "Downloading...\n",
      "From: https://drive.google.com/uc?id=101M-gFBMnCNlxJMWtonnb3yiV83o-ig2\n",
      "To: /Users/caladof/Desktop/anti-trans/anti-trans-legislation/state_bills/Wyoming_SF0172.pdf\n",
      "100%|██████████████████████████████████████| 31.9k/31.9k [00:00<00:00, 27.3MB/s]\n",
      "Downloading...\n",
      "From: https://drive.google.com/uc?id=14sMagt9-zIq7EFDPrXKkZW4Jz7nbvVue\n",
      "To: /Users/caladof/Desktop/anti-trans/anti-trans-legislation/state_bills/Wyoming_SF0117.pdf\n",
      "100%|██████████████████████████████████████| 24.4k/24.4k [00:00<00:00, 10.9MB/s]\n",
      "Downloading...\n",
      "From: https://drive.google.com/uc?id=11Td-Ybl9Mcb-C2r5YtGj9WaPEhFJHfRO\n",
      "To: /Users/caladof/Desktop/anti-trans/anti-trans-legislation/state_bills/Wyoming_SF0111.pdf\n",
      "100%|██████████████████████████████████████| 12.0k/12.0k [00:00<00:00, 4.68MB/s]\n",
      "Downloading...\n",
      "From: https://drive.google.com/uc?id=1eMhBhfhmG9MPxMY2boWpfiVmMcBUcU4J\n",
      "To: /Users/caladof/Desktop/anti-trans/anti-trans-legislation/state_bills/Wyoming_SF0144.pdf\n",
      "100%|██████████████████████████████████████| 19.0k/19.0k [00:00<00:00, 16.5MB/s]\n",
      "Downloading...\n",
      "From: https://drive.google.com/uc?id=1Emst06Gp5iDXSqkOqS4Q6ZjCtoAZ6juZ\n",
      "To: /Users/caladof/Desktop/anti-trans/anti-trans-legislation/state_bills/Wyoming_HB0234.pdf\n",
      "100%|██████████████████████████████████████| 31.3k/31.3k [00:00<00:00, 13.9MB/s]\n",
      "Downloading...\n",
      "From: https://drive.google.com/uc?id=1mz4Nh63NKTKp_K_oYjc1P0kaodYVLa3q\n",
      "To: /Users/caladof/Desktop/anti-trans/anti-trans-legislation/state_bills/Wyoming_HB0187.pdf\n",
      "100%|██████████████████████████████████████| 37.0k/37.0k [00:00<00:00, 21.9MB/s]\n",
      "Downloading...\n",
      "From: https://drive.google.com/uc?id=1UmNw35qYPvRo4smJb9KO46oqqbDjUph_\n",
      "To: /Users/caladof/Desktop/anti-trans/anti-trans-legislation/state_bills/Wyoming_SF0133.pdf\n",
      "100%|██████████████████████████████████████| 40.5k/40.5k [00:00<00:00, 20.6MB/s]\n"
     ]
    }
   ],
   "source": [
    "for item in df['Bill PDF Direct'][509:]:\n",
    "    if item != '':\n",
    "        driver.get(item)\n",
    "        url = driver.current_url\n",
    "        gdown.download(url=url, fuzzy=True)"
   ]
  },
  {
   "cell_type": "code",
   "execution_count": null,
   "metadata": {},
   "outputs": [],
   "source": []
  }
 ],
 "metadata": {
  "colab": {
   "provenance": []
  },
  "kernelspec": {
   "display_name": "Python 3 (ipykernel)",
   "language": "python",
   "name": "python3"
  },
  "language_info": {
   "codemirror_mode": {
    "name": "ipython",
    "version": 3
   },
   "file_extension": ".py",
   "mimetype": "text/x-python",
   "name": "python",
   "nbconvert_exporter": "python",
   "pygments_lexer": "ipython3",
   "version": "3.11.0"
  }
 },
 "nbformat": 4,
 "nbformat_minor": 1
}
