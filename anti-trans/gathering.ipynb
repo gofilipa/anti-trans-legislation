{
 "cells": [
  {
   "cell_type": "code",
   "execution_count": 1,
   "id": "f47a5596",
   "metadata": {},
   "outputs": [],
   "source": [
    "import requests # for making http (web) requests\n",
    "import pandas as pd # for working with tabular (spreadsheet) data\n",
    "import csv # also for working with tabular data, in csv format\n",
    "\n",
    "# saving the search results from congress.gov \n",
    "bills = pd.read_csv('in/117_house_gender.csv')\n",
    "\n",
    "# creating a \"dataframe\" in pandas (a python library for working\n",
    "# with spreadsheet like data\n",
    "df = pd.DataFrame(bills)"
   ]
  },
  {
   "cell_type": "code",
   "execution_count": 2,
   "id": "9fa26538",
   "metadata": {},
   "outputs": [],
   "source": [
    "df = df.drop_duplicates(subset=['Legislation Number'], keep='first')"
   ]
  },
  {
   "cell_type": "code",
   "execution_count": 3,
   "id": "5ca6a688",
   "metadata": {},
   "outputs": [
    {
     "data": {
      "text/html": [
       "<div>\n",
       "<style scoped>\n",
       "    .dataframe tbody tr th:only-of-type {\n",
       "        vertical-align: middle;\n",
       "    }\n",
       "\n",
       "    .dataframe tbody tr th {\n",
       "        vertical-align: top;\n",
       "    }\n",
       "\n",
       "    .dataframe thead th {\n",
       "        text-align: right;\n",
       "    }\n",
       "</style>\n",
       "<table border=\"1\" class=\"dataframe\">\n",
       "  <thead>\n",
       "    <tr style=\"text-align: right;\">\n",
       "      <th></th>\n",
       "      <th>Legislation Number</th>\n",
       "      <th>URL</th>\n",
       "      <th>Congress</th>\n",
       "      <th>Bill Text Type</th>\n",
       "      <th>Bill Text Type Code</th>\n",
       "      <th>Latest Title</th>\n",
       "      <th>HTML Url</th>\n",
       "      <th>PDF Url</th>\n",
       "    </tr>\n",
       "  </thead>\n",
       "  <tbody>\n",
       "    <tr>\n",
       "      <th>0</th>\n",
       "      <td>H.R. 1927</td>\n",
       "      <td>https://www.congress.gov/bill/117th-congress/h...</td>\n",
       "      <td>117</td>\n",
       "      <td>Introduced in House</td>\n",
       "      <td>IH</td>\n",
       "      <td>End Taxpayer Funding of Gender Experimentation...</td>\n",
       "      <td>https://www.congress.gov/117/bills/hr1927/gene...</td>\n",
       "      <td>https://www.congress.gov/117/bills/hr1927/BILL...</td>\n",
       "    </tr>\n",
       "    <tr>\n",
       "      <th>1</th>\n",
       "      <td>H.R. 8731</td>\n",
       "      <td>https://www.congress.gov/bill/117th-congress/h...</td>\n",
       "      <td>117</td>\n",
       "      <td>Introduced in House</td>\n",
       "      <td>IH</td>\n",
       "      <td>Protect Children’s Innocence Act</td>\n",
       "      <td>https://www.congress.gov/117/bills/hr8731/gene...</td>\n",
       "      <td>https://www.congress.gov/117/bills/hr8731/BILL...</td>\n",
       "    </tr>\n",
       "    <tr>\n",
       "      <th>2</th>\n",
       "      <td>H.R. 5</td>\n",
       "      <td>https://www.congress.gov/bill/117th-congress/h...</td>\n",
       "      <td>117</td>\n",
       "      <td>Engrossed in House</td>\n",
       "      <td>EH</td>\n",
       "      <td>Equality Act</td>\n",
       "      <td>https://www.congress.gov/117/bills/hr5/generat...</td>\n",
       "      <td>https://www.congress.gov/117/bills/hr5/BILLS-1...</td>\n",
       "    </tr>\n",
       "    <tr>\n",
       "      <th>5</th>\n",
       "      <td>H.R. 7684</td>\n",
       "      <td>https://www.congress.gov/bill/117th-congress/h...</td>\n",
       "      <td>117</td>\n",
       "      <td>Introduced in House</td>\n",
       "      <td>IH</td>\n",
       "      <td>No Tax Breaks for Radical Corporate Activism Act</td>\n",
       "      <td>https://www.congress.gov/117/bills/hr7684/gene...</td>\n",
       "      <td>https://www.congress.gov/117/bills/hr7684/BILL...</td>\n",
       "    </tr>\n",
       "    <tr>\n",
       "      <th>6</th>\n",
       "      <td>H.Res. 1475</td>\n",
       "      <td>https://www.congress.gov/bill/117th-congress/h...</td>\n",
       "      <td>117</td>\n",
       "      <td>Reported in House</td>\n",
       "      <td>RH</td>\n",
       "      <td>Of inquiry requesting the President and direct...</td>\n",
       "      <td>https://www.congress.gov/117/bills/hres1475/ge...</td>\n",
       "      <td>https://www.congress.gov/117/bills/hres1475/BI...</td>\n",
       "    </tr>\n",
       "    <tr>\n",
       "      <th>...</th>\n",
       "      <td>...</td>\n",
       "      <td>...</td>\n",
       "      <td>...</td>\n",
       "      <td>...</td>\n",
       "      <td>...</td>\n",
       "      <td>...</td>\n",
       "      <td>...</td>\n",
       "      <td>...</td>\n",
       "    </tr>\n",
       "    <tr>\n",
       "      <th>839</th>\n",
       "      <td>H.R. 4037</td>\n",
       "      <td>https://www.congress.gov/bill/117th-congress/h...</td>\n",
       "      <td>117</td>\n",
       "      <td>Introduced in House</td>\n",
       "      <td>IH</td>\n",
       "      <td>Trade Preferences and American Manufacturing C...</td>\n",
       "      <td>https://www.congress.gov/117/bills/hr4037/gene...</td>\n",
       "      <td>https://www.congress.gov/117/bills/hr4037/BILL...</td>\n",
       "    </tr>\n",
       "    <tr>\n",
       "      <th>841</th>\n",
       "      <td>H.R. 8588</td>\n",
       "      <td>https://www.congress.gov/bill/117th-congress/h...</td>\n",
       "      <td>117</td>\n",
       "      <td>Introduced in House</td>\n",
       "      <td>IH</td>\n",
       "      <td>Fair Care Act of 2022</td>\n",
       "      <td>https://www.congress.gov/117/bills/hr8588/gene...</td>\n",
       "      <td>https://www.congress.gov/117/bills/hr8588/BILL...</td>\n",
       "    </tr>\n",
       "    <tr>\n",
       "      <th>843</th>\n",
       "      <td>H.R. 4346</td>\n",
       "      <td>https://www.congress.gov/bill/117th-congress/h...</td>\n",
       "      <td>117</td>\n",
       "      <td>Public Law</td>\n",
       "      <td>PL</td>\n",
       "      <td>Chips and Science Act</td>\n",
       "      <td>https://www.congress.gov/117/plaws/publ167/gen...</td>\n",
       "      <td>https://www.congress.gov/117/plaws/publ167/PLA...</td>\n",
       "    </tr>\n",
       "    <tr>\n",
       "      <th>846</th>\n",
       "      <td>H.R. 1512</td>\n",
       "      <td>https://www.congress.gov/bill/117th-congress/h...</td>\n",
       "      <td>117</td>\n",
       "      <td>Introduced in House</td>\n",
       "      <td>IH</td>\n",
       "      <td>CLEAN Future Act</td>\n",
       "      <td>https://www.congress.gov/117/bills/hr1512/gene...</td>\n",
       "      <td>https://www.congress.gov/117/bills/hr1512/BILL...</td>\n",
       "    </tr>\n",
       "    <tr>\n",
       "      <th>849</th>\n",
       "      <td>H.R. 8294</td>\n",
       "      <td>https://www.congress.gov/bill/117th-congress/h...</td>\n",
       "      <td>117</td>\n",
       "      <td>Engrossed in House</td>\n",
       "      <td>EH</td>\n",
       "      <td>Transportation, Housing and Urban Development,...</td>\n",
       "      <td>https://www.congress.gov/117/bills/hr8294/gene...</td>\n",
       "      <td>https://www.congress.gov/117/bills/hr8294/BILL...</td>\n",
       "    </tr>\n",
       "  </tbody>\n",
       "</table>\n",
       "<p>688 rows × 8 columns</p>\n",
       "</div>"
      ],
      "text/plain": [
       "    Legislation Number                                                URL  \\\n",
       "0            H.R. 1927  https://www.congress.gov/bill/117th-congress/h...   \n",
       "1            H.R. 8731  https://www.congress.gov/bill/117th-congress/h...   \n",
       "2               H.R. 5  https://www.congress.gov/bill/117th-congress/h...   \n",
       "5            H.R. 7684  https://www.congress.gov/bill/117th-congress/h...   \n",
       "6          H.Res. 1475  https://www.congress.gov/bill/117th-congress/h...   \n",
       "..                 ...                                                ...   \n",
       "839          H.R. 4037  https://www.congress.gov/bill/117th-congress/h...   \n",
       "841          H.R. 8588  https://www.congress.gov/bill/117th-congress/h...   \n",
       "843          H.R. 4346  https://www.congress.gov/bill/117th-congress/h...   \n",
       "846          H.R. 1512  https://www.congress.gov/bill/117th-congress/h...   \n",
       "849          H.R. 8294  https://www.congress.gov/bill/117th-congress/h...   \n",
       "\n",
       "     Congress       Bill Text Type Bill Text Type Code  \\\n",
       "0         117  Introduced in House                  IH   \n",
       "1         117  Introduced in House                  IH   \n",
       "2         117   Engrossed in House                  EH   \n",
       "5         117  Introduced in House                  IH   \n",
       "6         117    Reported in House                  RH   \n",
       "..        ...                  ...                 ...   \n",
       "839       117  Introduced in House                  IH   \n",
       "841       117  Introduced in House                  IH   \n",
       "843       117           Public Law                  PL   \n",
       "846       117  Introduced in House                  IH   \n",
       "849       117   Engrossed in House                  EH   \n",
       "\n",
       "                                          Latest Title  \\\n",
       "0    End Taxpayer Funding of Gender Experimentation...   \n",
       "1                     Protect Children’s Innocence Act   \n",
       "2                                         Equality Act   \n",
       "5     No Tax Breaks for Radical Corporate Activism Act   \n",
       "6    Of inquiry requesting the President and direct...   \n",
       "..                                                 ...   \n",
       "839  Trade Preferences and American Manufacturing C...   \n",
       "841                              Fair Care Act of 2022   \n",
       "843                              Chips and Science Act   \n",
       "846                                   CLEAN Future Act   \n",
       "849  Transportation, Housing and Urban Development,...   \n",
       "\n",
       "                                              HTML Url  \\\n",
       "0    https://www.congress.gov/117/bills/hr1927/gene...   \n",
       "1    https://www.congress.gov/117/bills/hr8731/gene...   \n",
       "2    https://www.congress.gov/117/bills/hr5/generat...   \n",
       "5    https://www.congress.gov/117/bills/hr7684/gene...   \n",
       "6    https://www.congress.gov/117/bills/hres1475/ge...   \n",
       "..                                                 ...   \n",
       "839  https://www.congress.gov/117/bills/hr4037/gene...   \n",
       "841  https://www.congress.gov/117/bills/hr8588/gene...   \n",
       "843  https://www.congress.gov/117/plaws/publ167/gen...   \n",
       "846  https://www.congress.gov/117/bills/hr1512/gene...   \n",
       "849  https://www.congress.gov/117/bills/hr8294/gene...   \n",
       "\n",
       "                                               PDF Url  \n",
       "0    https://www.congress.gov/117/bills/hr1927/BILL...  \n",
       "1    https://www.congress.gov/117/bills/hr8731/BILL...  \n",
       "2    https://www.congress.gov/117/bills/hr5/BILLS-1...  \n",
       "5    https://www.congress.gov/117/bills/hr7684/BILL...  \n",
       "6    https://www.congress.gov/117/bills/hres1475/BI...  \n",
       "..                                                 ...  \n",
       "839  https://www.congress.gov/117/bills/hr4037/BILL...  \n",
       "841  https://www.congress.gov/117/bills/hr8588/BILL...  \n",
       "843  https://www.congress.gov/117/plaws/publ167/PLA...  \n",
       "846  https://www.congress.gov/117/bills/hr1512/BILL...  \n",
       "849  https://www.congress.gov/117/bills/hr8294/BILL...  \n",
       "\n",
       "[688 rows x 8 columns]"
      ]
     },
     "execution_count": 3,
     "metadata": {},
     "output_type": "execute_result"
    }
   ],
   "source": [
    "df"
   ]
  },
  {
   "cell_type": "code",
   "execution_count": 4,
   "id": "3801e887",
   "metadata": {},
   "outputs": [],
   "source": [
    "## go through each row in numbers column of our spreadsheet\n",
    "## extract the number and put into a separate list\n",
    "numbers = []\n",
    "for row in df['Legislation Number']:\n",
    "    splitted = row.split(' ')\n",
    "    for item in splitted:\n",
    "        if item.isnumeric():\n",
    "            numbers.append(item)"
   ]
  },
  {
   "cell_type": "code",
   "execution_count": 5,
   "id": "81f107fa",
   "metadata": {},
   "outputs": [
    {
     "data": {
      "text/plain": [
       "['1927',\n",
       " '8731',\n",
       " '5',\n",
       " '7684',\n",
       " '1475',\n",
       " '8170',\n",
       " '2695',\n",
       " '9497',\n",
       " '4176',\n",
       " '5744',\n",
       " '86',\n",
       " '1209',\n",
       " '1926',\n",
       " '29',\n",
       " '1440',\n",
       " '4097',\n",
       " '4286',\n",
       " '3930',\n",
       " '196',\n",
       " '3794']"
      ]
     },
     "execution_count": 5,
     "metadata": {},
     "output_type": "execute_result"
    }
   ],
   "source": [
    "numbers[:20]"
   ]
  },
  {
   "cell_type": "code",
   "execution_count": 6,
   "id": "9bc00ce5",
   "metadata": {},
   "outputs": [
    {
     "data": {
      "text/plain": [
       "688"
      ]
     },
     "execution_count": 6,
     "metadata": {},
     "output_type": "execute_result"
    }
   ],
   "source": [
    "len(numbers)"
   ]
  },
  {
   "cell_type": "code",
   "execution_count": 9,
   "id": "847abc45",
   "metadata": {},
   "outputs": [],
   "source": [
    "# function that contains a loop to insert bill numbers\n",
    "# into the URL, then to grab the content and add to a new list\n",
    "def scrape_bill_text(numbers):\n",
    "    bills_text = []\n",
    "    for item in numbers:\n",
    "        # make sure to put the right congress session\n",
    "        url = (f'https://www.congress.gov/117/bills/hr{item}/BILLS-117hr{item}ih.htm')\n",
    "        # url = (f'https://www.congress.gov/117/bills/s{item}/BILLS-117s{item}is.htm')\n",
    "        response = requests.get(url)\n",
    "        content = response.content\n",
    "        bills_text.append(content)\n",
    "    return bills_text"
   ]
  },
  {
   "cell_type": "code",
   "execution_count": 10,
   "id": "c67c3341",
   "metadata": {},
   "outputs": [],
   "source": [
    "# if HTML tags and data persists in the results, run this function instead to scrape\n",
    "# the bill text. It uses BS4 to get just the text. \n",
    "\n",
    "# from bs4 import BeautifulSoup\n",
    "\n",
    "# def scrape_just_text(numbers):\n",
    "#     bills_text = []\n",
    "#     for item in numbers:\n",
    "#         page = requests.get(f'https://www.congress.gov/118/bills/hr{item}/BILLS-118hr{item}ih.htm')\n",
    "#         source = page.content\n",
    "#         soup = BeautifulSoup(source, 'lxml')\n",
    "#         stuff = soup.get_text(strip=True)\n",
    "#         bills_text.append(stuff)\n",
    "#     return bills_text"
   ]
  },
  {
   "cell_type": "code",
   "execution_count": 11,
   "id": "4c8944b5",
   "metadata": {},
   "outputs": [],
   "source": [
    "# call the relevant function, passing the list of numbers as parameter\n",
    "# the first time, just scrape 10 to see what the results look like\n",
    "\n",
    "# full_text = scrape_just_text(numbers)\n",
    "full_text = scrape_bill_text(numbers[:10])"
   ]
  },
  {
   "cell_type": "code",
   "execution_count": 14,
   "id": "9512507a",
   "metadata": {},
   "outputs": [
    {
     "data": {
      "text/plain": [
       "b\"<html><body><pre>\\n[Congressional Bills 117th Congress]\\n[From the U.S. Government Publishing Office]\\n[H.R. 1927 Introduced in House (IH)]\\n\\n&lt;DOC&gt;\\n\\n\\n\\n\\n\\n\\n117th CONGRESS\\n  1st Session\\n                                H. R. 1927\\n\\nTo prohibit taxpayer-funded gender reassignment medical interventions, \\n                        and for other purposes.\\n\\n\\n_______________________________________________________________________\\n\\n\\n                    IN THE HOUSE OF REPRESENTATIVES\\n\\n                             March 16, 2021\\n\\n  Mr. LaMalfa (for himself, Mr. Norman, Mr. Allen, Mr. Grothman, Mr. \\nDuncan, Mr. Lamborn, Mr. Hice of Georgia, Mrs. Miller of Illinois, Mr. \\n Steube, Mr. Kelly of Mississippi, Mr. Jordan, Mr. Banks, Mr. Weber of \\n Texas, Mr. Aderholt, Mr. Babin, and Mr. Good of Virginia) introduced \\n the following bill; which was referred to the Committee on Energy and \\nCommerce, and in addition to the Committees on the Judiciary, and Ways \\n and Means, for a period to be subsequently determined by the Speaker, \\n in each case for consideration of such provisions as fall within the \\n                jurisdiction of the committee concerned\\n\\n_______________________________________________________________________\\n\\n                                 A BILL\\n\\n\\n \\nTo prohibit taxpayer-funded gender reassignment medical interventions, \\n                        and for other purposes.\\n\\n    Be it enacted by the Senate and House of Representatives of the \\nUnited States of America in Congress assembled,\\n\\nSECTION 1. SHORT TITLE; TABLE OF CONTENTS.\\n\\n    (a) Short Title.--This Act may be cited as the ``End Taxpayer \\nFunding of Gender Experimentation Act of 2021''.\\n    (b) Table of Contents.--The table of contents of this Act is as \\nfollows:\\n\\nSec. 1. Short title; table of contents.\\n   TITLE I--PROHIBITING FEDERALLY FUNDED GENDER REASSIGNMENT MEDICAL \\n                             INTERVENTIONS\\n\\nSec. 101. Prohibiting taxpayer-funded gender reassignment medical \\n                            interventions.\\nSec. 102. Amendment to table of chapters.\\n          TITLE II--APPLICATION UNDER THE AFFORDABLE CARE ACT\\n\\nSec. 201. Clarifying application of prohibition to premium credits and \\n                            cost-sharing reductions under ACA.\\n\\n   TITLE I--PROHIBITING FEDERALLY FUNDED GENDER REASSIGNMENT MEDICAL \\n                             INTERVENTIONS\\n\\nSEC. 101. PROHIBITING TAXPAYER-FUNDED GENDER REASSIGNMENT MEDICAL \\n              INTERVENTIONS.\\n\\n    Title 1, United States Code, is amended by adding at the end the \\nfollowing new chapter:\\n\\n ``CHAPTER 4--PROHIBITING TAXPAYER-FUNDED GENDER REASSIGNMENT MEDICAL \\n                             INTERVENTIONS\\n\\n``301. Prohibition on funding for gender reassignment medical \\n                            interventions.\\n``302. Prohibition on funding for health benefits plans that cover \\n                            gender reassignment medical interventions.\\n``303. Limitation on Federal facilities and employees.\\n``304. Construction relating to separate coverage.\\n``305. Construction relating to the use of non-Federal funds for health \\n                            coverage.\\n``306. Construction relating to complications arising from gender \\n                            reassignment medical interventions.\\n``307. Treatment of individuals born with medically verifiable disorder \\n                            of sex development.\\n``308. Gender reassignment medical intervention defined.\\n``Sec. 301. Prohibition on funding for gender reassignment medical \\n              interventions\\n    ``No funds authorized or appropriated by Federal law, and none of \\nthe funds in any trust fund to which funds are authorized or \\nappropriated by Federal law, shall be expended for any gender \\nreassignment medical intervention.\\n``Sec. 302. Prohibition on funding for health benefits plans that cover \\n              gender reassignment medical interventions\\n    ``No funds authorized or appropriated by Federal law, and none of \\nthe funds in any trust fund to which funds are authorized or \\nappropriated by Federal law, shall be expended for health benefits \\ncoverage that includes coverage of gender reassignment medical \\ninterventions.\\n``Sec. 303. Limitation on Federal facilities and employees\\n    ``No health care service furnished--\\n            ``(1) by or in a health care facility owned or operated by \\n        the Federal Government; or\\n            ``(2) by any physician or other individual employed by the \\n        Federal Government to provide health care services within the \\n        scope of the physician's or individual's employment,\\nmay include gender reassignment medical interventions.\\n``Sec. 304. Construction relating to separate coverage\\n    ``Nothing in this chapter shall be construed as prohibiting any \\nindividual, entity, or State or locality from purchasing separate \\ncoverage for gender reassignment medical interventions or health \\nbenefits coverage that includes gender reassignment medical \\ninterventions so long as such coverage is paid for entirely using only \\nfunds not authorized or appropriated by Federal law and such coverage \\nshall not be purchased using matching funds required for a federally \\nsubsidized program, including a State's or locality's contribution of \\nMedicaid matching funds.\\n``Sec. 305. Construction relating to the use of non-Federal funds for \\n              health coverage\\n    ``Nothing in this chapter shall be construed as restricting the \\nability of any non-Federal health benefits coverage provider from \\noffering coverage for gender reassignment medical interventions, or the \\nability of a State or locality to contract separately with such a \\nprovider for such coverage, so long as only funds not authorized or \\nappropriated by Federal law are used and such coverage shall not be \\npurchased using matching funds required for a federally subsidized \\nprogram, including a State's or locality's contribution of Medicaid \\nmatching funds.\\n``Sec. 306. Construction relating to complications arising from gender \\n              reassignment medical interventions\\n    ``Nothing in this chapter shall be construed to apply to the \\ntreatment of any infection, injury, disease, or disorder that has been \\ncaused by or exacerbated by the performance of a gender reassignment \\nmedical intervention. This rule of construction shall be applicable \\nwithout regard to whether the gender reassignment medical intervention \\nwas performed in accord with Federal or State law, and without regard \\nto whether funding for the gender reassignment medical intervention is \\npermissible under section 307.\\n``Sec. 307. Treatment of individuals born with medically verifiable \\n              disorder of sex development\\n    ``The limitations established in sections 301, 302, and 303 shall \\nnot apply with respect to the following individuals:\\n            ``(1) An individual with external biological sex \\n        characteristics that are irresolvably ambiguous, such as those \\n        born with 46 XX chromosomes with virilization, 46 XY \\n        chromosomes with undervirilization, or having both ovarian and \\n        testicular tissue.\\n            ``(2) An individual with respect to whom a physician has \\n        determined through genetic or biochemical testing that the \\n        individual does not have normal sex chromosome structure, sex \\n        steroid hormone production, or sex steroid hormone action for a \\n        biological male or female.\\n``Sec. 308. Gender reassignment medical intervention defined\\n    ``For purposes of this chapter, the term `gender reassignment \\nmedical intervention' means--\\n            ``(1) performing a surgery that sterilizes an individual, \\n        including castration, vasectomy, hysterectomy, oophorectomy, \\n        metoidioplasty, penectomy, phalloplasty, and vaginoplasty, to \\n        change the body of such individual to correspond to a sex that \\n        is discordant with biological sex;\\n            ``(2) performing a mastectomy on an individual for the \\n        purpose described in paragraph (1); and\\n            ``(3) administering or supplying to an individual \\n        medications for the purpose described in paragraph (1), \\n        including--\\n                    ``(A) GnRH agonists or other puberty-blocking drugs \\n                to stop or delay normal puberty;\\n                    ``(B) testosterone or other androgens to biological \\n                females at doses that are supraphysiologic to the \\n                female sex; and\\n                    ``(C) estrogen to biological males at doses that \\n                are supraphysiologic to the male sex.''.\\n\\nSEC. 102. AMENDMENT TO TABLE OF CHAPTERS.\\n\\n    The table of chapters for title 1, United States Code, is amended \\nby adding at the end the following new item:\\n\\n``4. Prohibiting taxpayer-funded gender reassignment medical     301''.\\n                            interventions.\\n\\n          TITLE II--APPLICATION UNDER THE AFFORDABLE CARE ACT\\n\\nSEC. 201. CLARIFYING APPLICATION OF PROHIBITION TO PREMIUM CREDITS AND \\n              COST-SHARING REDUCTIONS UNDER ACA.\\n\\n    (a) In General.--\\n            (1) Disallowance of refundable credit and cost-sharing \\n        reductions for coverage under qualified health plan which \\n        provides coverage for gender reassignment medical \\n        interventions.--\\n                    (A) In general.--Subparagraph (A) of section \\n                36B(c)(3) of the Internal Revenue Code of 1986 is \\n                amended by inserting before the period at the end the \\n                following: ``or any health plan that includes coverage \\n                for gender reassignment medical interventions (other \\n                than any gender reassignment medical intervention or \\n                treatment described in section 306 or 307 of title 1, \\n                United States Code)''.\\n                    (B) Option to purchase or offer separate coverage \\n                or plan.--Paragraph (3) of section 36B(c) of such Code \\n                is amended by adding at the end the following new \\n                subparagraph:\\n                    ``(C) Separate coverage or plan for gender \\n                reassignment medical interventions allowed.--\\n                            ``(i) Option to purchase separate coverage \\n                        or plan.--Nothing in subparagraph (A) shall be \\n                        construed as prohibiting any individual from \\n                        purchasing separate coverage for gender \\n                        reassignment medical interventions described in \\n                        such subparagraph, or a health plan that \\n                        includes such gender reassignment medical \\n                        interventions, so long as no credit is allowed \\n                        under this section with respect to the premiums \\n                        for such coverage or plan.\\n                            ``(ii) Option to offer coverage or plan.--\\n                        Nothing in subparagraph (A) shall restrict any \\n                        non-Federal health insurance issuer offering a \\n                        health plan from offering separate coverage for \\n                        gender reassignment medical interventions \\n                        described in such subparagraph, or a plan that \\n                        includes such gender reassignment medical \\n                        interventions, so long as premiums for such \\n                        separate coverage or plan are not paid for with \\n                        any amount attributable to the credit allowed \\n                        under this section (or the amount of any \\n                        advance payment of the credit under section \\n                        1412 of the Patient Protection and Affordable \\n                        Care Act).''.\\n            (2) Disallowance of small employer health insurance expense \\n        credit for plan which includes coverage for gender reassignment \\n        medical interventions.--Subsection (h) of section 45R of the \\n        Internal Revenue Code of 1986 is amended--\\n                    (A) by striking ``Any term'' and inserting the \\n                following:\\n            ``(1) In general.--Any term''; and\\n                    (B) by adding at the end the following new \\n                paragraph:\\n            ``(2) Exclusion of health plans including coverage for \\n        gender reassignment medical interventions.--\\n                    ``(A) In general.--The term `qualified health plan' \\n                does not include any health plan that includes coverage \\n                for gender reassignment medical interventions (other \\n                than any gender reassignment medical intervention or \\n                treatment described in section 306 or 307 of title 1, \\n                United States Code).\\n                    ``(B) Separate coverage or plan for gender \\n                reassignment medical interventions allowed.--\\n                            ``(i) Option to purchase separate coverage \\n                        or plan.--Nothing in subparagraph (A) shall be \\n                        construed as prohibiting any employer from \\n                        purchasing for its employees separate coverage \\n                        for gender reassignment medical interventions \\n                        described in such subparagraph, or a health \\n                        plan that includes such gender reassignment \\n                        medical interventions, so long as no credit is \\n                        allowed under this section with respect to the \\n                        employer contributions for such coverage or \\n                        plan.\\n                            ``(ii) Option to offer coverage or plan.--\\n                        Nothing in subparagraph (A) shall restrict any \\n                        non-Federal health insurance issuer offering a \\n                        health plan from offering separate coverage for \\n                        gender reassignment medical interventions \\n                        described in such subparagraph, or a plan that \\n                        includes such gender reassignment medical \\n                        interventions, so long as such separate \\n                        coverage or plan is not paid for with any \\n                        employer contribution eligible for the credit \\n                        allowed under this section.''.\\n    (b) Application to Multi-State Plans.--Section 1334(a) of Public \\nLaw 111-148 (42 U.S.C. 18054(a)) is amended by adding at the end the \\nfollowing new paragraph:\\n            ``(7) Coverage consistent with federal policy regarding \\n        gender reassignment medical interventions.--In entering into \\n        contracts under this subsection, the Director shall ensure that \\n        no multi-State qualified health plan offered in an Exchange \\n        provides health benefits coverage for which the expenditure of \\n        Federal funds is prohibited under chapter 4 of title 1, United \\n        States Code.''.\\n    (c) Effective Date.--The amendments made by subsection (a) shall \\napply to taxable years ending after the date that is one year after the \\ndate of enactment of this Act, but only with respect to plan years \\nbeginning after such date, and the amendment made by subsection (b) \\nshall apply to plan years beginning after such date.\\n                                 &lt;all&gt;\\n</pre></body></html>\\n\""
      ]
     },
     "execution_count": 14,
     "metadata": {},
     "output_type": "execute_result"
    }
   ],
   "source": [
    "full_text[0]"
   ]
  },
  {
   "cell_type": "code",
   "execution_count": 15,
   "id": "762bffd5",
   "metadata": {},
   "outputs": [
    {
     "data": {
      "text/plain": [
       "10"
      ]
     },
     "execution_count": 15,
     "metadata": {},
     "output_type": "execute_result"
    }
   ],
   "source": [
    "# double check we have the desired amount of texts\n",
    "\n",
    "len(full_text)"
   ]
  },
  {
   "cell_type": "code",
   "execution_count": 16,
   "id": "c33bd34c",
   "metadata": {},
   "outputs": [],
   "source": [
    "# Next, turn the results, which is a bytes object, into a string, so that it\n",
    "# can be manipulated. \n",
    "\n",
    "# then save a copy of the results. \n",
    "\n",
    "strings = []\n",
    "for item in full_text:\n",
    "    i = str(item)\n",
    "    strings.append(i)\n",
    "\n",
    "with open('in/bill_text.txt', 'w') as f:\n",
    "    for item in full_text:\n",
    "        f.write(str(item))"
   ]
  },
  {
   "cell_type": "code",
   "execution_count": 17,
   "id": "8bcc4d75",
   "metadata": {},
   "outputs": [],
   "source": [
    "# The next step will be to clean the text of the html characters and other unwanted characters \n",
    "# and whitespace. \n",
    "\n",
    "# First, I load it back up. Then, I run a function to take out all of the = characters that \n",
    "# we don't want like `<html>`, `\\n`, `__`, as well as any whitespaces. Finally, I save to a \n",
    "# new text file, called `clean`.\n",
    "\n",
    "# loading up the texts that we just saved\n",
    "load = open('in/bill_text.txt')\n",
    "data = load.read()\n",
    "load.close()\n",
    "\n",
    "# remove all the characters in the \"take out\" list by writing a\n",
    "# loop that replaces those characters with an empty character, ''\n",
    "def clean_up(text):\n",
    "    take_out = ['\\n', '/n', '\\\\n', '_', '[', ']', '<html><body><pre>', '<html><body><pre>', '  ']\n",
    "    for item in take_out:\n",
    "        if item in text:\n",
    "            text = text.replace(item, '')\n",
    "    return text\n",
    "\n",
    "\n",
    "cleaned = clean_up(data)"
   ]
  },
  {
   "cell_type": "code",
   "execution_count": 18,
   "id": "a8729359",
   "metadata": {},
   "outputs": [
    {
     "data": {
      "text/plain": [
       "\"cted by the Senate and House of Representatives of the United States of America in Congress assembled,SECTION 1. SHORT TITLE; TABLE OF CONTENTS.(a) Short Title.--This Act may be cited as the ``End Taxpayer Funding of Gender Experimentation Act of 2021''.(b) Table of Contents.--The table of contents of this Act is as follows:Sec. 1. Short title; table of contents. TITLE I--PROHIBITING FEDERALLY FUNDED GENDER REASSIGNMENT MEDICALINTERVENTIONSSec. 101. Prohibiting taxpayer-funded gender reassignment medical interventions.Sec. 102. Amendment to table of chapters.TITLE II--APPLICATION UNDER THE AFFORDABLE CARE ACTSec. 201. Clarifying application of prohibition to premium credits and cost-sharing reductions under ACA. TITLE I--PROHIBITING FEDERALLY FUNDED GENDER REASSIGNMENT MEDICALINTERVENTIONSSEC. 101. PROHIBITING TAXPAYER-FUNDED GENDER REASSIGNMENT MEDICAL INTERVENTIONS.Title 1, United States Code, is amended by adding at the end the following new chapter: ``CHAPTER 4--PROHIBITING TAXPAYER-FUNDED GENDER REASSIGNMENT MEDICALINTERVENTIONS``301. Prohibition on funding for gender reassignment medical interventions.``302. Prohibition on funding for health benefits plans that cover gender reassignment medical interventions.``303. Limitation on Federal facilities and employees.``304. Construction relating to separate coverage.``305. Construction relating to the use of non-Federal funds for health coverage.``306. Construction relating to complications arising from gender reassignment medical interventions.``307. Treatment of individuals born with medically verifiable disorder of sex development.``308. Gender reassignment medical intervention defined.``Sec. 301. Prohibition on funding for gender reassignment medical interventions``No funds authorized or appropriated by Federal law, and none of the funds in any trust fund to which funds are authorized or appropriated by Federal law, shall be expended for any gender reassignment medical intervention.``Sec. 302. Prohibition on fun\""
      ]
     },
     "execution_count": 18,
     "metadata": {},
     "output_type": "execute_result"
    }
   ],
   "source": [
    "# check a slice of the text to see the results of cleaning\n",
    "\n",
    "cleaned[1000:3000]"
   ]
  },
  {
   "cell_type": "code",
   "execution_count": 19,
   "id": "e1493efd",
   "metadata": {},
   "outputs": [],
   "source": [
    "# save plain to a separate text file\n",
    "# MAKE SURE TO CHANGE THE NAME OF THE FILE!\n",
    "\n",
    "with open('test/gathered.txt', 'w') as f:\n",
    "    f.write(cleaned)"
   ]
  },
  {
   "cell_type": "code",
   "execution_count": null,
   "id": "1defd563",
   "metadata": {},
   "outputs": [],
   "source": []
  }
 ],
 "metadata": {
  "kernelspec": {
   "display_name": "Python 3 (ipykernel)",
   "language": "python",
   "name": "python3"
  },
  "language_info": {
   "codemirror_mode": {
    "name": "ipython",
    "version": 3
   },
   "file_extension": ".py",
   "mimetype": "text/x-python",
   "name": "python",
   "nbconvert_exporter": "python",
   "pygments_lexer": "ipython3",
   "version": "3.11.0"
  }
 },
 "nbformat": 4,
 "nbformat_minor": 5
}
