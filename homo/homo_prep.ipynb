{
 "cells": [
  {
   "cell_type": "code",
   "execution_count": 6,
   "id": "5114b65f",
   "metadata": {},
   "outputs": [],
   "source": [
    "import json\n",
    "import pandas as pd"
   ]
  },
  {
   "cell_type": "code",
   "execution_count": 9,
   "id": "4a5e4d84",
   "metadata": {},
   "outputs": [],
   "source": [
    "data = json.load(open('../homo.jsonld'))"
   ]
  },
  {
   "cell_type": "code",
   "execution_count": 13,
   "id": "4e58296d",
   "metadata": {},
   "outputs": [],
   "source": [
    "df = pd.DataFrame(data['@graph'])"
   ]
  },
  {
   "cell_type": "code",
   "execution_count": 15,
   "id": "b78cb60e",
   "metadata": {},
   "outputs": [],
   "source": [
    "df_defs = df['rdfs:comment']"
   ]
  },
  {
   "cell_type": "code",
   "execution_count": 16,
   "id": "111bcd58",
   "metadata": {},
   "outputs": [
    {
     "data": {
      "text/plain": [
       "0       People with 17-beta hydroxysteroid dehydrogena...\n",
       "1       Term used to refer to a wide range of variatio...\n",
       "2       Abbreviation used to describe Two-Spirit peopl...\n",
       "3       Acronym used to describe lesbians, gay men, bi...\n",
       "4       Groups of people who share the experience of b...\n",
       "                              ...                        \n",
       "2827                               Gay men who are white.\n",
       "2828                       Intersex people who are white.\n",
       "2829                              Lesbians who are white.\n",
       "2830                          Queer people who are white.\n",
       "2831                    Transgender people who are white.\n",
       "Name: rdfs:comment, Length: 2832, dtype: object"
      ]
     },
     "execution_count": 16,
     "metadata": {},
     "output_type": "execute_result"
    }
   ],
   "source": [
    "df_defs"
   ]
  },
  {
   "cell_type": "code",
   "execution_count": 18,
   "id": "c861ada7",
   "metadata": {},
   "outputs": [],
   "source": [
    "df_subset = df_defs[:200]"
   ]
  },
  {
   "cell_type": "code",
   "execution_count": 19,
   "id": "412d6666",
   "metadata": {},
   "outputs": [
    {
     "data": {
      "text/plain": [
       "0      People with 17-beta hydroxysteroid dehydrogena...\n",
       "1      Term used to refer to a wide range of variatio...\n",
       "2      Abbreviation used to describe Two-Spirit peopl...\n",
       "3      Acronym used to describe lesbians, gay men, bi...\n",
       "4      Groups of people who share the experience of b...\n",
       "                             ...                        \n",
       "195    Sexual act involving the use of and insertion ...\n",
       "196    Slang term (typically regarded as vulgar) for ...\n",
       "197    The sexual act of penetrating an individual's ...\n",
       "198    Umbrella term for sex acts involving the butto...\n",
       "199    Sex toys designed to be inserted into the rect...\n",
       "Name: rdfs:comment, Length: 200, dtype: object"
      ]
     },
     "execution_count": 19,
     "metadata": {},
     "output_type": "execute_result"
    }
   ],
   "source": [
    "df_subset"
   ]
  },
  {
   "cell_type": "code",
   "execution_count": 20,
   "id": "dda1fd72",
   "metadata": {},
   "outputs": [],
   "source": [
    "df_subset.to_csv('train/train_subset.txt')"
   ]
  },
  {
   "cell_type": "code",
   "execution_count": null,
   "id": "15e3bea3",
   "metadata": {},
   "outputs": [],
   "source": []
  }
 ],
 "metadata": {
  "kernelspec": {
   "display_name": "Python 3 (ipykernel)",
   "language": "python",
   "name": "python3"
  },
  "language_info": {
   "codemirror_mode": {
    "name": "ipython",
    "version": 3
   },
   "file_extension": ".py",
   "mimetype": "text/x-python",
   "name": "python",
   "nbconvert_exporter": "python",
   "pygments_lexer": "ipython3",
   "version": "3.11.0"
  }
 },
 "nbformat": 4,
 "nbformat_minor": 5
}
