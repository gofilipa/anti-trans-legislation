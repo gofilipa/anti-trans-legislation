{
 "cells": [
  {
   "cell_type": "code",
   "execution_count": 2,
   "id": "ce097697",
   "metadata": {},
   "outputs": [],
   "source": [
    "# import our matcher class\n",
    "import spacy\n",
    "from spacy.matcher import Matcher"
   ]
  },
  {
   "cell_type": "code",
   "execution_count": 59,
   "id": "6e2b26fc",
   "metadata": {},
   "outputs": [],
   "source": [
    "# load the language model from spacy\n",
    "\n",
    "nlp = spacy.load(\"en_core_web_sm\")"
   ]
  },
  {
   "cell_type": "code",
   "execution_count": 4,
   "id": "f88203e4",
   "metadata": {},
   "outputs": [
    {
     "data": {
      "text/plain": [
       "['tok2vec', 'tagger', 'parser', 'attribute_ruler', 'lemmatizer', 'ner']"
      ]
     },
     "execution_count": 4,
     "metadata": {},
     "output_type": "execute_result"
    }
   ],
   "source": [
    "# check the pipe components\n",
    "\n",
    "nlp.pipe_names"
   ]
  },
  {
   "cell_type": "code",
   "execution_count": 57,
   "id": "adbcf726-7007-4997-9699-cb2d223b2394",
   "metadata": {},
   "outputs": [],
   "source": [
    "# load up the plain text from the bills\n",
    "with open ('./data/118s_clean.txt', 'r') as f:\n",
    "    text = f.read()"
   ]
  },
  {
   "cell_type": "code",
   "execution_count": 58,
   "id": "023b902d",
   "metadata": {},
   "outputs": [
    {
     "data": {
      "text/plain": [
       "8085198"
      ]
     },
     "execution_count": 58,
     "metadata": {},
     "output_type": "execute_result"
    }
   ],
   "source": [
    "len(text)"
   ]
  },
  {
   "cell_type": "code",
   "execution_count": 60,
   "id": "8d39d535",
   "metadata": {},
   "outputs": [
    {
     "data": {
      "text/plain": [
       "'b\"Congressional Bills 118th CongressFrom the U.S. Government Publishing OfficeS. 1595 Introduced in Senate (IS)&lt;DOC&gt;118th CONGRESS1st SessionS. 1595To prohibit taxpayer-funded gender transition procedures, and for otherpurposes. IN THE SENATE OF THE UNITED STATESMay 15, 2023 Mr. Marshall (for himself, Mrs. Blackburn, Mr. Braun, Mr. Cramer, Mr. Daines, Mrs. Hyde-Smith, Mr. Lee, Mr. Mullin, Mr. Risch, Mr. Rubio, Mr.Wicker, and Mr. Hawley) introduced the following bill; which was readtwice and referred to the Committee on Finance A BILL To prohibit taxpayer-funded gender transition procedures, and for otherpurposes.Be it enacted by the Senate and House of Representatives of the United States of America in Congress assembled,SECTION 1. SHORT TITLE; TABLE OF CONTENTS.(a) Short Title.--This Act may be cited as the ``End Taxpayer Funding of Gender Experimentation Act of 2023\\'\\'.(b) Table of Contents.--The table of contents of this Act is as follows:Sec. 1. Short title; table of contents.'"
      ]
     },
     "execution_count": 60,
     "metadata": {},
     "output_type": "execute_result"
    }
   ],
   "source": [
    "text[:1000]"
   ]
  },
  {
   "cell_type": "code",
   "execution_count": 61,
   "id": "25feb245-15d6-437b-a1f2-bd249da0f2e8",
   "metadata": {},
   "outputs": [
    {
     "data": {
      "text/plain": [
       "str"
      ]
     },
     "execution_count": 61,
     "metadata": {},
     "output_type": "execute_result"
    }
   ],
   "source": [
    "type(text)"
   ]
  },
  {
   "cell_type": "code",
   "execution_count": 62,
   "id": "0a25a2ed",
   "metadata": {},
   "outputs": [],
   "source": [
    "# we want to split our bills into lists of individual bills, which\n",
    "# will make it easier to process with spacy later\n",
    "\n",
    "# split by text that is included in all the bills, for example\n",
    "# \"Congressional Bills 117th Congress\"\n",
    "\n",
    "texts = text.split('b\"Congressional Bills 118th Congress')"
   ]
  },
  {
   "cell_type": "code",
   "execution_count": 63,
   "id": "6c666eba",
   "metadata": {},
   "outputs": [
    {
     "data": {
      "text/plain": [
       "210"
      ]
     },
     "execution_count": 63,
     "metadata": {},
     "output_type": "execute_result"
    }
   ],
   "source": [
    "len(texts)"
   ]
  },
  {
   "cell_type": "code",
   "execution_count": 11,
   "id": "f4c9a842",
   "metadata": {},
   "outputs": [],
   "source": [
    "# the amount of text is overwhelming for spacy to process at once, so\n",
    "# make into lists for easier processing\n",
    "\n",
    "# text_one = texts[:200]\n",
    "# text_two = texts[200:300]\n",
    "# three = texts[300:400]"
   ]
  },
  {
   "cell_type": "code",
   "execution_count": 64,
   "id": "6f01aa10-6c1b-4f09-9680-9d530d130b19",
   "metadata": {},
   "outputs": [
    {
     "data": {
      "text/plain": [
       "list"
      ]
     },
     "execution_count": 64,
     "metadata": {},
     "output_type": "execute_result"
    }
   ],
   "source": [
    "#####\n",
    "\n",
    "#####\n",
    "\n",
    "##### CHANGE THE VARIABLE TO MAKE SURE ITS THE CORRECT TEXT\n",
    "\n",
    "#####\n",
    "\n",
    "#####\n",
    "\n",
    "type(texts)"
   ]
  },
  {
   "cell_type": "code",
   "execution_count": 65,
   "id": "3899763c-745f-4a0f-8afc-ec4f8b98420e",
   "metadata": {},
   "outputs": [
    {
     "data": {
      "text/plain": [
       "'From the U.S. Government Publishing OfficeS. 1597 Introduced in Senate (IS)&lt;DOC&gt;118th CONGRESS1st SessionS. 1597 To amend chapter 110 of title 18, United States Code, to prohibit gender transition procedures on minors, and for other purposes. IN THE SENATE OF THE UNITED STATESMay 15, 2023 Mr. Marshall (for himself, Mrs. Blackburn, Mr. Cramer, Mr. Braun, Mr. Daines, Mrs. Hyde-Smith, Mr. Mullin, and Mr. Wicker) introduced thefollowing bill; which was read twice and referred to the Committee onthe Judiciary A BILLTo amend chapter 110 of title 18, United States Code, to prohibit gender transition procedures on minors, and for other purposes.Be it enacted by the Senate and House of Representatives of the United States of America in Congress assembled,SECTION 1. SHORT TITLE.This Act may be cited as the ``Protecting Children From Experimentation Act of 2023\\'\\'.SEC. 2. GENDER TRANSITION PROCEDURES ON MINORS PROHIBITED.Chapter 110 of title 18, United States Code, is amended--(1) by adding at the end the following:``Sec. 2260B. Gender transition procedures on minors``(a) In General.--Any physical or mental healthcare professional who knowingly performs or provides a referral for any gender transition procedure on a minor shall be fined under this title, imprisoned not more than 5 years, or both.``(b) Prohibition on Prosecution of Person on Whom Procedures Are Performed.--No person on whom the gender transition procedure under subsection (a) is performed may be arrested or prosecuted for an offense under this section.``(c) Civil Action.--A person on whom a gender transition procedure is performed under this section may bring a civil action for appropriate relief against each person who performed the gender transition procedure.``(d) Definitions.--In this section:``(1) Biological sex.--The term `biological sex\\' means the biological indication of male and female in the context of reproductive potential or capacity, such as sex chromosomes, naturally occurring sex hormones, gonads, and nonambiguous internal and external genitalia present at birth, without regard to the psychological, chosen, or subjective experience of the gender of an individual.``(2) Cross-sex hormones.--The term `cross-sex hormones\\' means--``(A) testosterone or other androgens given to biological females at doses that are profoundly larger or more potent than would normally occur naturally in healthy biological females; and``(B) estrogen given to biological males at doses that are profoundly larger or more potent than would normally occur naturally in healthy biological males.``(3) Gender.--The term `gender\\' means the psychological, behavioral, social, and cultural aspects of being male or female.``(4) Gender transition.--The term `gender transition\\' means the process in which an individual goes from identifying with and living as a gender that corresponds to his or her biological sex to identifying with and living as a gender different from his or her biological sex, and may involve social, legal, or physical changes.``(5) Gender transition procedure.--``(A) In general.--The term `gender transition procedure\\' means any medical or surgical service that seeks--``(i) to alter or remove physical or anatomical characteristics or features that are typical for the individual\\'s biological sex; or``(ii) to instill or create physiological or anatomical characteristics that resemble a sex different from the individual\\'s birth sex.``(B) Inclusions.--For purposes of subparagraph (A), the term `medical or surgical service\\' includes--``(i) physician\\'s services;``(ii) inpatient and outpatient hospital services;``(iii) prescribed drugs relating to gender transition;``(iv) a medical service that provides--``(I) puberty-blocking drugs;``(II) cross-sex hormones; or``(III) other mechanisms to promote the development of feminizing or masculinizing features (in the opposite sex); and``(v) gender transition surgery.``(C) Exclusions.--The term `gender transition procedure\\' does not include--``(i) services to individuals born with a medically verifiable disorder of sex development, including an individual with external biological sex characteristics that are irresolvably ambiguous, such as an individual born with 46 XX chromosomes with virilization, an individual born with 46 XY chromosomes with undervirilization, or an individual born having both ovarian and testicular tissue;``(ii) services provided when a physician has otherwise diagnosed a disorder of sexual development in which the physician has determined through genetic or biochemical testing that the individual does not have normal sex chromosome structure, sex steroid hormone production, or sex steroid hormone action for a biological male or biological female; or``(iii) the treatment of any infection, injury, disease, or disorder that has been caused by or exacerbated by the performance of gender transition procedures, whether or not the gender transition procedure was performed in accordance with State and Federal law or whether or not funding for the gender transition procedure is permissible under this section.``(6) Gender transition surgery.--``(A) In general.--The term `gender transition surgery\\' means any medical or surgical service that seeks to surgically alter or remove healthy physical or anatomical characteristics or features that are typical for the individual\\'s biological sex in order to instill or create physiological or anatomical characteristics that resemble a sex different from the individual\\'s birth sex.``(B) Inclusions.--The term `gender transition surgery\\' includes genital gender transition surgery and non-genital gender transition surgery.``(C) Exclusions.--The term `gender transition surgery\\' does not include any procedure undertaken because the individual suffers from a physical disorder, physical injury, or physical illness that would, as certified by a physician, place the individual in imminent danger of death or impairment of major bodily function unless surgery is performed for the purpose of a gender transition or for the alleviation of psychological or mental distress.``(7) Genital gender transition surgery.--The term `genital gender transition surgery\\' means a surgical procedure performed for the purpose of assisting an individual with a gender transition, including--``(A) for biologically male patients, a penectomy, orchiectomy, vaginoplasty, clitoroplasty, and vulvoplasty; and``(B) for biologically female patients, a hysterectomy/ovariectomy, reconstruction of the fixed part of the urethra with or without a metoidioplasty or a phalloplasty, vaginectomy, scrotoplasty, and implantation of erection or testicular prostheses.``(8) Minor.--The term `minor\\' means an individual under the age of 18.``(9) Non-genital gender transition surgery.--The term `non-genital gender transition surgery\\' means a surgical procedure performed for the purpose of assisting an individual with a gender transition, including--``(A) for biologically male patients, augmentation mammoplasty, facial feminization surgery, liposuction, lipofilling, voice surgery, thyroid cartilage reduction, gluteal augmentation (implants/lipofilling), hair reconstruction, and various aesthetic procedures; and``(B) for biologically female patients, subcutaneous mastectomy, voice surgery, liposuction, lipofilling, pectoral implants, and various aesthetic procedures.``(10) Puberty-blocking drugs.--The term `puberty-blocking drugs\\' means--``(A) Gonadotropin-releasing hormone (GnRH) analogues or other synthetic drugs used in biological males to stop luteinizing hormone secretion and therefore testosterone secretion; and``(B) synthetic drugs used in biological females that stop the production of estrogen and progesterone, when used to delay or suppress pubertal development in children for the purpose of assisting an individual with a gender transition.\\'\\'; and(2) by amending the table of sections for such chapter by adding at the end the following:``2260B. Gender transition procedures on minors.\\'\\'. &lt;all&gt;</pre></body></html>\"'"
      ]
     },
     "execution_count": 65,
     "metadata": {},
     "output_type": "execute_result"
    }
   ],
   "source": [
    "#####\n",
    "\n",
    "#####\n",
    "\n",
    "##### CHANGE THE VARIABLE TO MAKE SURE ITS THE CORRECT TEXT\n",
    "\n",
    "#####\n",
    "\n",
    "#####\n",
    "\n",
    "\n",
    "texts[3]"
   ]
  },
  {
   "cell_type": "code",
   "execution_count": 66,
   "id": "b5c80a79",
   "metadata": {},
   "outputs": [],
   "source": [
    "# create an entity ruler to label gender terms as \"gender\", etc\n",
    "\n",
    "ruler = nlp.add_pipe(\"entity_ruler\", after=\"ner\")\n",
    "\n",
    "patterns = [\n",
    "                {\"label\": \"SEX\", \"pattern\": [{'LOWER': 'biological'}, {'LOWER': 'sex'}]},\n",
    "                {\"label\": \"SEX\", \"pattern\": 'biological'},\n",
    "                {\"label\": \"SEX\", \"pattern\": [{'LOWER': 'cross'}, {'IS_PUNCT': True}, {'LOWER': 'sex'}]},\n",
    "                {\"label\": \"SEX\", \"pattern\": [{'LOWER': 'opposite'}, {'LOWER': 'sex'}]},\n",
    "                {\"label\": \"SEX\", \"pattern\": 'sex'},\n",
    "                {\"label\": \"SEX\", \"pattern\": [{'LOWER': 'trans'}, {'IS_PUNCT': True}, {'LOWER': 'sexual'}]},\n",
    "                {\"label\": \"SEX\", \"pattern\": [{'LOWER': 'trans'}, {'LOWER': 'sexual'}]},\n",
    "                {\"label\": \"SEX\", \"pattern\": 'transsexual'},\n",
    "                {\"label\": \"GENDER\", \"pattern\": 'genderqueer'},\n",
    "                {\"label\": \"GENDER\", \"pattern\": 'gender'},\n",
    "                {\"label\": \"GENDER\", \"pattern\": 'transgender'},\n",
    "                {\"label\": \"GENDER\", \"pattern\": [{'LOWER': 'trans'}, {'IS_PUNCT': True}, {'LOWER': 'gender'}]},\n",
    "                {\"label\": \"GENDER\", \"pattern\": [{'LOWER': 'trans'}, {'LOWER': 'gender'}]},\n",
    "                {\"label\": \"GENDER\", \"pattern\": 'trans'},\n",
    "                {\"label\": \"GENDER\", \"pattern\": [{'LOWER': 'non'}, {'IS_PUNCT': True}, {'LOWER': 'binary'}]},\n",
    "                {\"label\": \"GENDER\", \"pattern\": [{'LOWER': 'non'}, {'LOWER': 'binary'}]},\n",
    "                {\"label\": \"GENDER\", \"pattern\": 'nonbinary'},\n",
    "                {\"label\": \"GENDER\", \"pattern\": 'male'},\n",
    "                {\"label\": \"GENDER\", \"pattern\": 'female'},\n",
    "                {\"label\": \"SEXUALITY\", \"pattern\": 'sexuality'},\n",
    "                {\"label\": \"SEXUALITY\", \"pattern\": 'orientation'},\n",
    "                {\"label\": \"SEXUALITY\", \"pattern\": 'lgbt'},\n",
    "                {\"label\": \"SEXUALITY\", \"pattern\": 'lgbt+'},\n",
    "                {\"label\": \"SEXUALITY\", \"pattern\": 'lgbtqia+'},\n",
    "                {\"label\": \"SEXUALITY\", \"pattern\": 'queer'}\n",
    "            ]\n",
    "\n",
    "ruler.add_patterns(patterns)"
   ]
  },
  {
   "cell_type": "code",
   "execution_count": 67,
   "id": "89988ad8",
   "metadata": {},
   "outputs": [
    {
     "data": {
      "text/plain": [
       "['tok2vec',\n",
       " 'tagger',\n",
       " 'parser',\n",
       " 'attribute_ruler',\n",
       " 'lemmatizer',\n",
       " 'ner',\n",
       " 'entity_ruler']"
      ]
     },
     "execution_count": 67,
     "metadata": {},
     "output_type": "execute_result"
    }
   ],
   "source": [
    "# check pipe names to make sure our entity ruler is added\n",
    "\n",
    "nlp.pipe_names"
   ]
  },
  {
   "cell_type": "code",
   "execution_count": 68,
   "id": "bdec03f3-50f7-41d9-8f84-10f8196a2e3c",
   "metadata": {},
   "outputs": [],
   "source": [
    "#####\n",
    "\n",
    "#####\n",
    "\n",
    "##### CHANGE THE VARIABLE TO MAKE SURE ITS THE CORRECT TEXT\n",
    "\n",
    "#####\n",
    "\n",
    "#####\n",
    "\n",
    "texts = ''.join(texts)"
   ]
  },
  {
   "cell_type": "code",
   "execution_count": 69,
   "id": "30f0c542-5088-40f9-a05b-b2c8cf1ef35e",
   "metadata": {},
   "outputs": [
    {
     "data": {
      "text/plain": [
       "8077674"
      ]
     },
     "execution_count": 69,
     "metadata": {},
     "output_type": "execute_result"
    }
   ],
   "source": [
    "len(texts)"
   ]
  },
  {
   "cell_type": "code",
   "execution_count": 70,
   "id": "e63bedcf",
   "metadata": {},
   "outputs": [],
   "source": [
    "# run the nlp() function on our texts to get the docs object\n",
    "# may have to change max length depending if you get the error when \n",
    "# running nlp()\n",
    "\n",
    "nlp.max_length = 9945910\n",
    "docs = nlp(texts)"
   ]
  },
  {
   "cell_type": "code",
   "execution_count": 71,
   "id": "de0338c4",
   "metadata": {},
   "outputs": [
    {
     "data": {
      "text/plain": [
       "From the U.S. Government Publishing OfficeS. 1595 Introduced in Senate (IS)&lt;DOC&gt;118th CONGRESS1st SessionS. 1595To prohibit taxpayer-funded gender transition procedures, and for otherpurposes. IN THE SENATE OF THE UNITED STATESMay 15, 2023 Mr. Marshall (for himself, Mrs. Blackburn, Mr. Braun, Mr. Cramer, Mr. Daines, Mrs. Hyde-Smith, Mr. Lee, Mr. Mullin, Mr. Risch, Mr. Rubio, Mr.Wicker, and Mr. Hawley) introduced the following bill; which was readtwice and referred to the Committee on Finance A BILL To prohibit taxpayer-funded gender transition procedures, and for otherpurposes.Be it enacted by the Senate and House of Representatives of the United States of America in Congress assembled,SECTION 1. SHORT TITLE; TABLE OF CONTENTS.(a) Short Title.--This Act may be cited as the ``End Taxpayer Funding of Gender Experimentation Act of 2023''.(b) Table of Contents.--The table of contents of this Act is as follows:Sec. 1. Short title; table of contents. TITLE I--PROHIBITING FEDERALLY FUNDED GENDER TRANSITION PROCEDURESSec. 101. Prohibiting taxpayer-funded gender transition procedures.Sec. 102. Amendment to table of chapters.TITLE II--APPLICATION UNDER THE AFFORDABLE CARE ACTSec. 201. Clarifying application of prohibition to premium credits and cost-sharing reductions under ACA. TITLE I--PROHIBITING FEDERALLY FUNDED GENDER TRANSITION PROCEDURESSEC. 101. PROHIBITING TAXPAYER-FUNDED GENDER TRANSITION PROCEDURES.Title 1, United States Code, is amended by adding at the end the following new chapter: ``CHAPTER 4--PROHIBITING TAXPAYER-FUNDED GENDER TRANSITION PROCEDURES``Sec.``301. Prohibition on funding for gender transition procedures.``302. Prohibition on funding for health benefits plans that cover gender transition procedures.``303. Limitation on Federal facilities and employees.``304. Construction relating to separate coverage.``305. Construction relating to the use of non-Federal funds for health coverage.``306. Construction relating to complications arising from gender transition procedures.``307. Definitions.``Sec. 301. Prohibition on funding for gender transition procedures``No funds authorized or appropriated by Federal law, and none of the funds in any trust fund to which funds are authorized or appropriated by Federal law, shall be expended for any gender transition procedures.``Sec. 302. Prohibition on funding for health benefits plans that cover gender transition procedures``No funds authorized or appropriated by Federal law, and none of the funds in any trust fund to which funds are authorized or appropriated by Federal law, shall be expended for health benefits coverage that includes coverage of gender transition procedures.``Sec. 303. Limitation on Federal facilities and employees``No health care service furnished--``(1) by or in a health care facility owned or operated by the Federal Government; or``(2) by any physician or other individual employed by the Federal Government to provide health care services within the scope of the physician's or individual's employment,may include gender transition procedures.``Sec. 304. Construction relating to separate coverage``Nothing in this chapter shall be construed as prohibiting any individual, entity, or State or locality from purchasing separate coverage for gender transition procedures or health benefits coverage that includes gender transition procedures so long as such coverage is paid for entirely using only funds not authorized or appropriated by Federal law and such coverage shall not be purchased using matching funds required for a federally subsidized program, including a State's or locality's contribution of Medicaid matching funds.``Sec. 305. Construction relating to the use of non-Federal funds for health coverage``Nothing in this chapter shall be construed as restricting the ability of any non-Federal health benefits coverage provider from offering coverage for gender transition procedures, or the ability of a State or locality to contract separately with such a provider for such coverage, so long as only funds not authorized or appropriated by Federal law are used and such coverage shall not be purchased using matching funds required for a federally subsidized program, including a State's or locality's contribution of Medicaid matching funds.``Sec. 306. Construction relating to complications arising from gender transition procedures``Nothing in this chapter shall be construed to apply to the treatment of any infection, injury, disease, or disorder that has been caused by or exacerbated by the performance of a gender transition procedure.``Sec. 307. Definitions``For purposes of this chapter:``(1) Biological sex.--The term `biological sex' means the biological indication of male or female in the context of reproductive potential or capacity, such as sex chromosomes, naturally occurring sex hormones, gonads, and non-ambiguous internal and external genitalia present at birth, without regard to an individual's psychological, chosen, or subjective experience of gender.``(2) Cross-sex hormones.--The term `cross-sex hormones' means--``(A) testosterone or other androgens given to biological females at doses that are profoundly larger or more potent than would normally occur naturally in healthy biological females; and``(B) estrogen given to biological males at doses that are profoundly larger or more potent than would normally occur naturally in healthy biological males.``(3) Gender.--The term `gender' means the psychological, behavioral, social, and cultural aspects of being male or female.``(4) Gender transition.--The term `gender transition' means the process in which an individual goes from identifying with and living as a gender that corresponds to his or her biological sex to identifying with and living as a gender different from his or her biological sex"
      ]
     },
     "execution_count": 71,
     "metadata": {},
     "output_type": "execute_result"
    }
   ],
   "source": [
    "docs[:1000]"
   ]
  },
  {
   "cell_type": "code",
   "execution_count": 72,
   "id": "30db3d0f",
   "metadata": {},
   "outputs": [
    {
     "data": {
      "text/plain": [
       "1371174"
      ]
     },
     "execution_count": 72,
     "metadata": {},
     "output_type": "execute_result"
    }
   ],
   "source": [
    "len(docs)"
   ]
  },
  {
   "cell_type": "code",
   "execution_count": 73,
   "id": "2ed04939",
   "metadata": {},
   "outputs": [
    {
     "name": "stdout",
     "output_type": "stream",
     "text": [
      "From\n",
      "ADP\n",
      "ROOT\n",
      "the\n",
      "DET\n",
      "det\n",
      "U.S.\n",
      "PROPN\n",
      "compound\n",
      "Government\n",
      "PROPN\n",
      "compound\n",
      "Publishing\n",
      "PROPN\n",
      "pobj\n",
      "OfficeS.\n",
      "PROPN\n",
      "pobj\n",
      "1595\n",
      "NUM\n",
      "nummod\n",
      "Introduced\n",
      "VERB\n",
      "acl\n",
      "in\n",
      "ADP\n",
      "prep\n",
      "Senate\n",
      "PROPN\n",
      "pobj\n"
     ]
    }
   ],
   "source": [
    "# making sure we have all of the components correct in the docs object\n",
    "\n",
    "for token in docs[:10]:\n",
    "    print(token)\n",
    "    print(token.pos_)\n",
    "    print(token.dep_)"
   ]
  },
  {
   "cell_type": "code",
   "execution_count": 74,
   "id": "e28e2c9f",
   "metadata": {},
   "outputs": [
    {
     "name": "stdout",
     "output_type": "stream",
     "text": [
      "gender GENDER\n",
      "gender GENDER\n",
      "gender GENDER\n",
      "gender GENDER\n",
      "gender GENDER\n",
      "gender GENDER\n",
      "gender GENDER\n",
      "gender GENDER\n",
      "gender GENDER\n",
      "gender GENDER\n",
      "gender GENDER\n",
      "gender GENDER\n",
      "gender GENDER\n",
      "gender GENDER\n",
      "gender GENDER\n",
      "gender GENDER\n",
      "biological sex SEX\n",
      "biological SEX\n",
      "male GENDER\n",
      "female GENDER\n",
      "sex SEX\n",
      "sex SEX\n",
      "gender GENDER\n",
      "Cross-sex SEX\n",
      "cross-sex SEX\n",
      "biological SEX\n",
      "biological SEX\n",
      "biological SEX\n",
      "biological SEX\n",
      "gender GENDER\n",
      "male GENDER\n",
      "female GENDER\n",
      "gender GENDER\n",
      "gender GENDER\n",
      "biological sex SEX\n",
      "gender GENDER\n",
      "biological sex SEX\n",
      "gender GENDER\n",
      "biological sex SEX\n",
      "sex SEX\n",
      "sex SEX\n",
      "gender GENDER\n",
      "cross-sex SEX\n",
      "opposite sex SEX\n",
      "gender GENDER\n",
      "gender GENDER\n",
      "sex SEX\n",
      "biological sex SEX\n",
      "sex SEX\n",
      "sex SEX\n",
      "sex SEX\n",
      "biological SEX\n",
      "male GENDER\n",
      "biological SEX\n",
      "female GENDER\n",
      "gender GENDER\n",
      "gender GENDER\n",
      "gender GENDER\n",
      "gender GENDER\n",
      "biological sex SEX\n",
      "sex SEX\n",
      "sex SEX\n",
      "gender GENDER\n",
      "gender GENDER\n",
      "gender GENDER\n",
      "gender GENDER\n",
      "gender GENDER\n",
      "gender GENDER\n",
      "gender GENDER\n",
      "gender GENDER\n",
      "male GENDER\n",
      "female GENDER\n",
      "gender GENDER\n",
      "gender GENDER\n",
      "gender GENDER\n",
      "male GENDER\n",
      "female GENDER\n",
      "biological SEX\n",
      "biological SEX\n",
      "gender GENDER\n",
      "gender GENDER\n",
      "gender GENDER\n",
      "gender GENDER\n",
      "gender GENDER\n",
      "gender GENDER\n",
      "gender GENDER\n",
      "gender GENDER\n",
      "gender GENDER\n",
      "gender GENDER\n",
      "gender GENDER\n",
      "gender GENDER\n",
      "gender GENDER\n",
      "gender GENDER\n",
      "gender GENDER\n",
      "gender GENDER\n",
      "gender GENDER\n",
      "gender GENDER\n",
      "transgender GENDER\n",
      "transgender GENDER\n",
      "transgender GENDER\n",
      "transgender GENDER\n",
      "gender GENDER\n",
      "biological sex SEX\n",
      "gender GENDER\n",
      "gender GENDER\n",
      "biological SEX\n",
      "gender GENDER\n",
      "biological sex SEX\n",
      "gender GENDER\n",
      "gender GENDER\n",
      "gender GENDER\n",
      "transgender GENDER\n",
      "gender GENDER\n",
      "transgender GENDER\n",
      "gender GENDER\n",
      "biological sex SEX\n",
      "gender GENDER\n",
      "biological sex SEX\n",
      "Cross-sex SEX\n",
      "cross-sex SEX\n",
      "biological SEX\n",
      "biological SEX\n",
      "biological SEX\n",
      "biological SEX\n",
      "gender GENDER\n",
      "male GENDER\n",
      "gender GENDER\n",
      "gender GENDER\n",
      "biological SEX\n",
      "gender GENDER\n",
      "gender GENDER\n",
      "biological sex SEX\n",
      "gender GENDER\n",
      "biological sex SEX\n",
      "gender GENDER\n",
      "gender GENDER\n",
      "biological sex SEX\n",
      "sex SEX\n",
      "sex SEX\n",
      "cross-sex SEX\n",
      "opposite sex SEX\n",
      "gender GENDER\n",
      "gender GENDER\n",
      "sex SEX\n",
      "biological sex SEX\n",
      "sex SEX\n",
      "sex SEX\n",
      "sex SEX\n",
      "biological SEX\n",
      "male GENDER\n",
      "biological SEX\n",
      "female GENDER\n",
      "gender GENDER\n",
      "gender GENDER\n",
      "gender GENDER\n",
      "gender GENDER\n",
      "biological sex SEX\n",
      "sex SEX\n",
      "sex SEX\n",
      "gender GENDER\n",
      "gender GENDER\n",
      "gender GENDER\n",
      "gender GENDER\n",
      "male GENDER\n",
      "female GENDER\n",
      "gender GENDER\n",
      "gender GENDER\n",
      "gender GENDER\n",
      "gender GENDER\n",
      "male GENDER\n",
      "female GENDER\n",
      "gender GENDER\n",
      "gender GENDER\n",
      "biological SEX\n",
      "biological SEX\n",
      "sex SEX\n",
      "biological SEX\n",
      "sex SEX\n",
      "sex SEX\n",
      "biological sex SEX\n",
      "biological SEX\n",
      "male GENDER\n",
      "female GENDER\n",
      "sex SEX\n",
      "sex SEX\n",
      "gender GENDER\n",
      "gender GENDER\n",
      "gender GENDER\n",
      "gender GENDER\n",
      "gender GENDER\n",
      "gender GENDER\n",
      "gender GENDER\n",
      "biological sex SEX\n",
      "biological SEX\n",
      "male GENDER\n",
      "female GENDER\n",
      "sex SEX\n",
      "sex SEX\n",
      "gender GENDER\n",
      "Cross-sex SEX\n",
      "cross-sex SEX\n",
      "biological SEX\n",
      "biological SEX\n",
      "biological SEX\n",
      "biological SEX\n",
      "gender GENDER\n",
      "male GENDER\n",
      "female GENDER\n",
      "gender GENDER\n",
      "gender GENDER\n",
      "biological sex SEX\n",
      "gender GENDER\n",
      "biological sex SEX\n",
      "gender GENDER\n",
      "biological sex SEX\n",
      "sex SEX\n",
      "sex SEX\n",
      "gender GENDER\n",
      "cross-sex SEX\n",
      "opposite sex SEX\n",
      "gender GENDER\n",
      "gender GENDER\n",
      "sex SEX\n",
      "biological sex SEX\n",
      "sex SEX\n",
      "sex SEX\n",
      "sex SEX\n",
      "biological SEX\n",
      "male GENDER\n",
      "biological SEX\n",
      "female GENDER\n",
      "gender GENDER\n",
      "gender GENDER\n",
      "gender GENDER\n",
      "gender GENDER\n",
      "biological sex SEX\n",
      "sex SEX\n",
      "sex SEX\n",
      "gender GENDER\n",
      "gender GENDER\n",
      "gender GENDER\n",
      "gender GENDER\n",
      "gender GENDER\n",
      "gender GENDER\n",
      "gender GENDER\n",
      "gender GENDER\n",
      "male GENDER\n",
      "female GENDER\n",
      "gender GENDER\n",
      "gender GENDER\n",
      "gender GENDER\n",
      "male GENDER\n",
      "female GENDER\n",
      "biological SEX\n",
      "biological SEX\n",
      "gender GENDER\n",
      "sex SEX\n",
      "gender GENDER\n",
      "orientation SEXUALITY\n",
      "sex SEX\n",
      "gender GENDER\n",
      "orientation SEXUALITY\n",
      "sex SEX\n",
      "orientation SEXUALITY\n",
      "gender GENDER\n",
      "sex SEX\n",
      "sex SEX\n",
      "sex SEX\n",
      "sex SEX\n",
      "orientation SEXUALITY\n",
      "sex SEX\n",
      "orientation SEXUALITY\n",
      "transgender GENDER\n",
      "queer SEXUALITY\n",
      "sex SEX\n",
      "orientation SEXUALITY\n",
      "gender GENDER\n",
      "orientation SEXUALITY\n",
      "gender GENDER\n",
      "orientation SEXUALITY\n",
      "gender GENDER\n",
      "orientation SEXUALITY\n",
      "gender GENDER\n",
      "gender GENDER\n",
      "nonbinary GENDER\n",
      "sex SEX\n",
      "orientation SEXUALITY\n",
      "sex SEX\n",
      "sex SEX\n",
      "orientation SEXUALITY\n",
      "gender GENDER\n",
      "sex SEX\n",
      "sex SEX\n",
      "orientation SEXUALITY\n",
      "transgender GENDER\n",
      "sex SEX\n",
      "orientation SEXUALITY\n",
      "gender GENDER\n",
      "sex SEX\n",
      "gender GENDER\n",
      "transgender GENDER\n",
      "sex SEX\n",
      "sex SEX\n",
      "transgender GENDER\n",
      "transgender GENDER\n",
      "transgender GENDER\n",
      "gender GENDER\n",
      "nonbinary GENDER\n",
      "orientation SEXUALITY\n",
      "gender GENDER\n",
      "orientation SEXUALITY\n",
      "gender GENDER\n",
      "transgender GENDER\n",
      "sex SEX\n",
      "sex SEX\n",
      "orientation SEXUALITY\n",
      "gender GENDER\n",
      "sex SEX\n",
      "sex SEX\n",
      "sex SEX\n",
      "sex SEX\n",
      "orientation SEXUALITY\n",
      "gender GENDER\n",
      "sex SEX\n",
      "sex SEX\n",
      "orientation SEXUALITY\n",
      "gender GENDER\n",
      "sex SEX\n",
      "orientation SEXUALITY\n",
      "gender GENDER\n",
      "sex SEX\n",
      "orientation SEXUALITY\n",
      "gender GENDER\n",
      "orientation SEXUALITY\n",
      "gender GENDER\n",
      "orientation SEXUALITY\n",
      "gender GENDER\n",
      "orientation SEXUALITY\n",
      "gender GENDER\n",
      "sex SEX\n",
      "orientation SEXUALITY\n",
      "gender GENDER\n",
      "sex SEX\n",
      "sex SEX\n",
      "orientation SEXUALITY\n",
      "gender GENDER\n",
      "sex SEX\n",
      "sex SEX\n",
      "orientation SEXUALITY\n",
      "gender GENDER\n",
      "sex SEX\n",
      "gender GENDER\n",
      "sex SEX\n",
      "sex SEX\n",
      "orientation SEXUALITY\n",
      "gender GENDER\n",
      "sex SEX\n",
      "sex SEX\n",
      "orientation SEXUALITY\n",
      "gender GENDER\n",
      "sex SEX\n",
      "gender GENDER\n",
      "sex SEX\n",
      "sex SEX\n",
      "orientation SEXUALITY\n",
      "gender GENDER\n",
      "sex SEX\n",
      "sex SEX\n",
      "orientation SEXUALITY\n",
      "gender GENDER\n",
      "sex SEX\n",
      "sex SEX\n",
      "orientation SEXUALITY\n",
      "gender GENDER\n",
      "sex SEX\n",
      "sex SEX\n",
      "orientation SEXUALITY\n",
      "gender GENDER\n",
      "sex SEX\n",
      "sex SEX\n",
      "orientation SEXUALITY\n",
      "gender GENDER\n",
      "sex SEX\n",
      "orientation SEXUALITY\n",
      "gender GENDER\n",
      "sex SEX\n",
      "orientation SEXUALITY\n",
      "gender GENDER\n",
      "orientation SEXUALITY\n",
      "gender GENDER\n",
      "sex SEX\n",
      "orientation SEXUALITY\n",
      "gender GENDER\n",
      "sex SEX\n",
      "orientation SEXUALITY\n",
      "gender GENDER\n",
      "sex SEX\n",
      "sex SEX\n",
      "orientation SEXUALITY\n",
      "gender GENDER\n",
      "orientation SEXUALITY\n",
      "gender GENDER\n",
      "orientation SEXUALITY\n",
      "gender GENDER\n",
      "sex SEX\n",
      "orientation SEXUALITY\n",
      "gender GENDER\n",
      "sex SEX\n",
      "orientation SEXUALITY\n",
      "gender GENDER\n",
      "orientation SEXUALITY\n",
      "gender GENDER\n",
      "sex SEX\n",
      "orientation SEXUALITY\n",
      "gender GENDER\n",
      "sex SEX\n",
      "orientation SEXUALITY\n",
      "gender GENDER\n",
      "sex SEX\n",
      "orientation SEXUALITY\n",
      "gender GENDER\n",
      "sex SEX\n",
      "orientation SEXUALITY\n",
      "gender GENDER\n",
      "gender GENDER\n",
      "gender GENDER\n",
      "gender GENDER\n",
      "sex SEX\n",
      "sex SEX\n",
      "sex SEX\n",
      "orientation SEXUALITY\n",
      "gender GENDER\n",
      "sex SEX\n",
      "orientation SEXUALITY\n",
      "sex SEX\n",
      "gender GENDER\n",
      "gender GENDER\n",
      "sex SEX\n",
      "sex SEX\n",
      "sex SEX\n",
      "orientation SEXUALITY\n",
      "gender GENDER\n",
      "sex SEX\n",
      "orientation SEXUALITY\n",
      "gender GENDER\n",
      "sex SEX\n",
      "sex SEX\n",
      "orientation SEXUALITY\n",
      "sex SEX\n",
      "orientation SEXUALITY\n",
      "gender GENDER\n",
      "sex SEX\n",
      "orientation SEXUALITY\n",
      "gender GENDER\n",
      "sex SEX\n",
      "orientation SEXUALITY\n",
      "gender GENDER\n",
      "orientation SEXUALITY\n",
      "gender GENDER\n",
      "sex SEX\n",
      "orientation SEXUALITY\n",
      "gender GENDER\n",
      "sex SEX\n",
      "orientation SEXUALITY\n",
      "gender GENDER\n",
      "orientation SEXUALITY\n",
      "gender GENDER\n",
      "sex SEX\n",
      "orientation SEXUALITY\n",
      "gender GENDER\n",
      "sex SEX\n",
      "orientation SEXUALITY\n",
      "gender GENDER\n",
      "gender GENDER\n",
      "sex SEX\n",
      "orientation SEXUALITY\n"
     ]
    }
   ],
   "source": [
    "# making sure we have entities correct in docs object\n",
    "\n",
    "labels = ['GENDER', 'SEX', 'SEXUALITY']\n",
    "for ent in docs.ents[:1000]:\n",
    "    if ent.label_ in labels:\n",
    "        print(ent.text, ent.label_)"
   ]
  },
  {
   "cell_type": "code",
   "execution_count": 75,
   "id": "41024fed",
   "metadata": {},
   "outputs": [],
   "source": [
    "# writing a pattern matcher to grab patterns of text where gender terms are being defined\n",
    "\n",
    "pattern = [ \n",
    "      {\n",
    "          # punctuation that appears zero or more\n",
    "          'IS_PUNCT': True, 'OP': '*'\n",
    "      },\n",
    "      {\n",
    "          # specifying the entity type, which can be one of our three\n",
    "          # custom entities\n",
    "          \"ENT_TYPE\": {\n",
    "              'IN': [\n",
    "                  'GENDER', 'SEX', 'SEXUALITY'\n",
    "              ]\n",
    "          }\n",
    "      },\n",
    "      {'OP': '?'}, # catches a \"wild card\" if it appears zero or one time\n",
    "      {'OP': '?'}, # catches a \"wild card\" if it appears zero or one time.\n",
    "      {'OP': '?'}, # catches a \"wild card\" if it appears zero or one time.\n",
    "      {\n",
    "          'IS_PUNCT': True, 'OP': '*' # catches punctuation that appears zero or more times\n",
    "      },\n",
    "      {\n",
    "          # getting the lowercase word of any of the following terms\n",
    "          'LOWER': {\n",
    "              'IN': [\n",
    "                  'means', 'signifies', 'includes'\n",
    "              ]\n",
    "          }\n",
    "      }\n",
    "  ]"
   ]
  },
  {
   "cell_type": "code",
   "execution_count": 76,
   "id": "8d6d9934",
   "metadata": {},
   "outputs": [],
   "source": [
    "# use matcher class to create a matcher object\n",
    "matcher = Matcher(nlp.vocab)\n",
    "\n",
    "# add pattern to matcher\n",
    "matcher.add('definition', [pattern])\n",
    "\n",
    "# run matcher over doc\n",
    "matches = matcher(docs)"
   ]
  },
  {
   "cell_type": "code",
   "execution_count": 77,
   "id": "2191c73f",
   "metadata": {},
   "outputs": [
    {
     "data": {
      "text/plain": [
       "67"
      ]
     },
     "execution_count": 77,
     "metadata": {},
     "output_type": "execute_result"
    }
   ],
   "source": [
    "len(matches)"
   ]
  },
  {
   "cell_type": "code",
   "execution_count": 78,
   "id": "7107d175",
   "metadata": {},
   "outputs": [
    {
     "name": "stdout",
     "output_type": "stream",
     "text": [
      "definition 801 804 sex' means\n",
      "Biological sex.--The term `biological sex' means the biological indication of male or female in the context of reproductive potential or capacity, such as sex chromosomes, naturally occurring sex hormones, gonads, and non-ambiguous internal and external genitalia present at birth, without regard to an individual's psychological, chosen, or subjective experience of gender.\n",
      "\n",
      "\n",
      "definition 800 804 biological sex' means\n",
      "Biological sex.--The term `biological sex' means the biological indication of male or female in the context of reproductive potential or capacity, such as sex chromosomes, naturally occurring sex hormones, gonads, and non-ambiguous internal and external genitalia present at birth, without regard to an individual's psychological, chosen, or subjective experience of gender.\n",
      "\n",
      "\n",
      "definition 933 936 gender' means\n",
      "Gender.--The term `gender' means the psychological, behavioral, social, and cultural aspects of being male or female.\n",
      "\n",
      "\n",
      "definition 958 962 gender transition' means\n",
      "Gender transition.--The term `gender transition' means the process in which an individual goes from identifying with and living as a gender that corresponds to his or her biological sex to identifying with and living as a gender different from his or her biological sex, and may involve social, legal, or physical changes.\n",
      "\n",
      "\n",
      "definition 1022 1027 gender transition procedure' means\n",
      "In general.--The term `gender transition procedure' means any medical or surgical service that seeks--``(i) to alter or remove physical or anatomical characteristics or features that are typical for the individual's biological sex; or``(ii) to instill or create physiological or anatomical characteristics that resemble a sex different from the individual's birth sex.\n",
      "\n",
      "\n",
      "definition 1352 1357 gender transition surgery' means\n",
      "In general.--The term `gender transition surgery' means any medical or surgical service that seeks to surgically alter or remove healthy physical or anatomical characteristics or features that are typical for the individual's biological sex in order to instill or create physiological or anatomical characteristics that resemble a sex different from the individual's birth sex.\n",
      "\n",
      "\n",
      "definition 1412 1417 gender transition surgery' includes\n",
      "Inclusions.--The term `gender transition surgery' includes genital gender transition surgery and non-genital gender transition surgery.\n",
      "\n",
      "\n",
      "definition 1519 1524 gender transition surgery' means\n",
      "Genital gender transition surgery.--The term `genital gender transition surgery' means a surgical procedure performed for the purpose of assisting an individual with a gender transition, including--``(A) for biologically male patients, a penectomy, orchiectomy, vaginoplasty, clitoroplasty, and vulvoplasty; and``(B) for biologically female patients, a hysterectomy/ovariectomy, reconstruction of the fixed part of the urethra with or without a metoidioplasty or a phalloplasty, vaginectomy, scrotoplasty, and implantation of erection or testicular prostheses.\n",
      "\n",
      "\n",
      "definition 1613 1618 gender transition surgery' means\n",
      "Non-genital gender transition surgery.--The term `non-genital gender transition surgery' means a surgical procedure performed for the purpose of assisting an individual with a gender transition, including--``(A) for biologically male patients, augmentation mammoplasty, facial feminization surgery, liposuction, lipofilling, voice surgery, thyroid cartilage reduction, gluteal augmentation (implants/lipofilling), hair reconstruction, and various aesthetic procedures; and``(B) for biologically female patients, subcutaneous mastectomy, voice surgery, liposuction, lipofilling, pectoral implants, and various aesthetic procedures.\n",
      "\n",
      "\n",
      "definition 3032 3037 -sex hormones'' means\n",
      "hormones.--The term ``cross-sex hormones'' means testosterone or other androgens given to biological females at doses that are profoundly larger or more potent than would normally occur naturally in healthy biological females, or estrogen given to biological males at doses that are profoundly larger or more potent than would normally occur naturally in healthy biological males.(2) Gender.--The term ``gender'' means the psychological, behavioral, social, and cultural aspects of being male or female.(3)\n",
      "\n",
      "\n"
     ]
    }
   ],
   "source": [
    "# printing first ten matches\n",
    "\n",
    "for match_id, start, end in matches[:10]:\n",
    "    string_id = nlp.vocab.strings[match_id]  # Get string representation\n",
    "    span = docs[start:end]  # The matched span\n",
    "    print(string_id, start, end, span.text)\n",
    "    print(docs[start].sent)\n",
    "    print('\\n')"
   ]
  },
  {
   "cell_type": "code",
   "execution_count": 79,
   "id": "54faea16",
   "metadata": {},
   "outputs": [],
   "source": [
    "# writing results to text file\n",
    "\n",
    "results = []\n",
    "for match_id, start, end in matches:\n",
    "    string_id = nlp.vocab.strings[match_id]  # Get string representation\n",
    "    span = docs[start:end]  # The matched span\n",
    "    results.append(str((' ')))\n",
    "    results.append(str(span.text))\n",
    "    results.append(str(('\\n')))\n",
    "    results.append(str(docs[start].sent))\n",
    "    results.append(str('\\n'))\n",
    "    # defs.append(str(('\\n ')))\n",
    "\n",
    "#####\n",
    "\n",
    "#####\n",
    "\n",
    "##### CHANGE THE FILENAME TO MAKE SURE ITS THE CORRECT ONE\n",
    "\n",
    "#####\n",
    "\n",
    "#####\n",
    "\n",
    "with open('new_out/118_s.txt', 'w') as f:\n",
    "    for line in results:\n",
    "        f.writelines(line)"
   ]
  },
  {
   "cell_type": "markdown",
   "id": "53e183ce",
   "metadata": {},
   "source": [
    "# from text to csv\n",
    "Now, we will load up the text file we just saved, with the goal of re-formatting it into a CSV file."
   ]
  },
  {
   "cell_type": "code",
   "execution_count": 80,
   "id": "2b6afce4",
   "metadata": {},
   "outputs": [],
   "source": [
    "# loading up the text file\n",
    "\n",
    "#####\n",
    "\n",
    "#####\n",
    "\n",
    "##### CHANGE THE FILENAME TO MAKE SURE ITS THE CORRECT TEXT\n",
    "\n",
    "#####\n",
    "\n",
    "#####\n",
    "\n",
    "with open('new_out/118_s.txt', 'r') as f:\n",
    "    text = f.read()"
   ]
  },
  {
   "cell_type": "code",
   "execution_count": 81,
   "id": "db8455a7",
   "metadata": {},
   "outputs": [
    {
     "data": {
      "text/plain": [
       "\" sex' means\\nBiological sex.--The term `biological sex' means the biological indication of male or female in the context of reproductive potential or capacity, such as sex chromosomes, naturally occurring sex hormones, gonads, and non-ambiguous internal and external genitalia present at birth, without regard to an individual's psychological, chosen, or subjective experience of gender.\\n biological sex' means\\nBiological sex.--The term `biological sex' means the biological indication of male or female in the context of reproductive potential or capacity, such as sex chromosomes, naturally occurring sex hormones, gonads, and non-ambiguous internal and external genitalia present at birth, without regard to an individual's psychological, chosen, or subjective experience of gender.\\n gender' means\\nGender.--The term `gender' means the psychological, behavioral, social, and cultural aspects of being male or female.\\n gender transition' means\\nGender transition.--The term `gender transition' means t\""
      ]
     },
     "execution_count": 81,
     "metadata": {},
     "output_type": "execute_result"
    }
   ],
   "source": [
    "text[:1000]"
   ]
  },
  {
   "cell_type": "code",
   "execution_count": 82,
   "id": "16fb6323",
   "metadata": {},
   "outputs": [],
   "source": [
    "# want separate out our text into individual strings, using new lines as delimiter\n",
    "# for item in text\n",
    "# split item by \"/n\"\n",
    "\n",
    "splitted = text.split('\\n')\n"
   ]
  },
  {
   "cell_type": "code",
   "execution_count": 83,
   "id": "6c6c49dc",
   "metadata": {},
   "outputs": [
    {
     "data": {
      "text/plain": [
       "[\" sex' means\",\n",
       " \"Biological sex.--The term `biological sex' means the biological indication of male or female in the context of reproductive potential or capacity, such as sex chromosomes, naturally occurring sex hormones, gonads, and non-ambiguous internal and external genitalia present at birth, without regard to an individual's psychological, chosen, or subjective experience of gender.\",\n",
       " \" biological sex' means\",\n",
       " \"Biological sex.--The term `biological sex' means the biological indication of male or female in the context of reproductive potential or capacity, such as sex chromosomes, naturally occurring sex hormones, gonads, and non-ambiguous internal and external genitalia present at birth, without regard to an individual's psychological, chosen, or subjective experience of gender.\",\n",
       " \" gender' means\",\n",
       " \"Gender.--The term `gender' means the psychological, behavioral, social, and cultural aspects of being male or female.\",\n",
       " \" gender transition' means\",\n",
       " \"Gender transition.--The term `gender transition' means the process in which an individual goes from identifying with and living as a gender that corresponds to his or her biological sex to identifying with and living as a gender different from his or her biological sex, and may involve social, legal, or physical changes.\",\n",
       " \" gender transition procedure' means\",\n",
       " \"In general.--The term `gender transition procedure' means any medical or surgical service that seeks--``(i) to alter or remove physical or anatomical characteristics or features that are typical for the individual's biological sex; or``(ii) to instill or create physiological or anatomical characteristics that resemble a sex different from the individual's birth sex.\"]"
      ]
     },
     "execution_count": 83,
     "metadata": {},
     "output_type": "execute_result"
    }
   ],
   "source": [
    "splitted[:10]"
   ]
  },
  {
   "cell_type": "code",
   "execution_count": 84,
   "id": "d8d2386c",
   "metadata": {},
   "outputs": [],
   "source": [
    "# creating lists of our matches and the definitions\n",
    "\n",
    "defs = []\n",
    "matches = []\n",
    "for item in splitted:\n",
    "    if item != '':\n",
    "        space = ' '\n",
    "        if space == item[0]:\n",
    "            matches.append(item.strip())\n",
    "        else:\n",
    "            defs.append(item)"
   ]
  },
  {
   "cell_type": "code",
   "execution_count": 85,
   "id": "aeacf1de",
   "metadata": {},
   "outputs": [
    {
     "data": {
      "text/plain": [
       "[\"Biological sex.--The term `biological sex' means the biological indication of male or female in the context of reproductive potential or capacity, such as sex chromosomes, naturally occurring sex hormones, gonads, and non-ambiguous internal and external genitalia present at birth, without regard to an individual's psychological, chosen, or subjective experience of gender.\",\n",
       " \"Biological sex.--The term `biological sex' means the biological indication of male or female in the context of reproductive potential or capacity, such as sex chromosomes, naturally occurring sex hormones, gonads, and non-ambiguous internal and external genitalia present at birth, without regard to an individual's psychological, chosen, or subjective experience of gender.\",\n",
       " \"Gender.--The term `gender' means the psychological, behavioral, social, and cultural aspects of being male or female.\",\n",
       " \"Gender transition.--The term `gender transition' means the process in which an individual goes from identifying with and living as a gender that corresponds to his or her biological sex to identifying with and living as a gender different from his or her biological sex, and may involve social, legal, or physical changes.\",\n",
       " \"In general.--The term `gender transition procedure' means any medical or surgical service that seeks--``(i) to alter or remove physical or anatomical characteristics or features that are typical for the individual's biological sex; or``(ii) to instill or create physiological or anatomical characteristics that resemble a sex different from the individual's birth sex.\",\n",
       " \"In general.--The term `gender transition surgery' means any medical or surgical service that seeks to surgically alter or remove healthy physical or anatomical characteristics or features that are typical for the individual's biological sex in order to instill or create physiological or anatomical characteristics that resemble a sex different from the individual's birth sex.\",\n",
       " \"Inclusions.--The term `gender transition surgery' includes genital gender transition surgery and non-genital gender transition surgery.\",\n",
       " \"Genital gender transition surgery.--The term `genital gender transition surgery' means a surgical procedure performed for the purpose of assisting an individual with a gender transition, including--``(A) for biologically male patients, a penectomy, orchiectomy, vaginoplasty, clitoroplasty, and vulvoplasty; and``(B) for biologically female patients, a hysterectomy/ovariectomy, reconstruction of the fixed part of the urethra with or without a metoidioplasty or a phalloplasty, vaginectomy, scrotoplasty, and implantation of erection or testicular prostheses.\",\n",
       " \"Non-genital gender transition surgery.--The term `non-genital gender transition surgery' means a surgical procedure performed for the purpose of assisting an individual with a gender transition, including--``(A) for biologically male patients, augmentation mammoplasty, facial feminization surgery, liposuction, lipofilling, voice surgery, thyroid cartilage reduction, gluteal augmentation (implants/lipofilling), hair reconstruction, and various aesthetic procedures; and``(B) for biologically female patients, subcutaneous mastectomy, voice surgery, liposuction, lipofilling, pectoral implants, and various aesthetic procedures.\",\n",
       " \"hormones.--The term ``cross-sex hormones'' means testosterone or other androgens given to biological females at doses that are profoundly larger or more potent than would normally occur naturally in healthy biological females, or estrogen given to biological males at doses that are profoundly larger or more potent than would normally occur naturally in healthy biological males.(2) Gender.--The term ``gender'' means the psychological, behavioral, social, and cultural aspects of being male or female.(3)\"]"
      ]
     },
     "execution_count": 85,
     "metadata": {},
     "output_type": "execute_result"
    }
   ],
   "source": [
    "defs[:10]"
   ]
  },
  {
   "cell_type": "code",
   "execution_count": 86,
   "id": "8969f85a",
   "metadata": {},
   "outputs": [
    {
     "data": {
      "text/plain": [
       "[\"sex' means\",\n",
       " \"biological sex' means\",\n",
       " \"gender' means\",\n",
       " \"gender transition' means\",\n",
       " \"gender transition procedure' means\",\n",
       " \"gender transition surgery' means\",\n",
       " \"gender transition surgery' includes\",\n",
       " \"gender transition surgery' means\",\n",
       " \"gender transition surgery' means\",\n",
       " \"-sex hormones'' means\"]"
      ]
     },
     "execution_count": 86,
     "metadata": {},
     "output_type": "execute_result"
    }
   ],
   "source": [
    "matches[:10]"
   ]
  },
  {
   "cell_type": "code",
   "execution_count": 87,
   "id": "4baafe82",
   "metadata": {},
   "outputs": [],
   "source": [
    "# creat data frame, making columns of our lists\n",
    "\n",
    "import pandas as pd\n",
    "\n",
    "df = pd.DataFrame(\n",
    "    {'Match': matches,\n",
    "     'Definition': defs\n",
    "    })"
   ]
  },
  {
   "cell_type": "code",
   "execution_count": 88,
   "id": "c4f98b95",
   "metadata": {},
   "outputs": [
    {
     "name": "stdout",
     "output_type": "stream",
     "text": [
      "<class 'pandas.core.frame.DataFrame'>\n",
      "RangeIndex: 67 entries, 0 to 66\n",
      "Data columns (total 2 columns):\n",
      " #   Column      Non-Null Count  Dtype \n",
      "---  ------      --------------  ----- \n",
      " 0   Match       67 non-null     object\n",
      " 1   Definition  67 non-null     object\n",
      "dtypes: object(2)\n",
      "memory usage: 1.2+ KB\n"
     ]
    }
   ],
   "source": [
    "df.info()"
   ]
  },
  {
   "cell_type": "code",
   "execution_count": 89,
   "id": "2fe57901",
   "metadata": {},
   "outputs": [
    {
     "data": {
      "text/html": [
       "<div>\n",
       "<style scoped>\n",
       "    .dataframe tbody tr th:only-of-type {\n",
       "        vertical-align: middle;\n",
       "    }\n",
       "\n",
       "    .dataframe tbody tr th {\n",
       "        vertical-align: top;\n",
       "    }\n",
       "\n",
       "    .dataframe thead th {\n",
       "        text-align: right;\n",
       "    }\n",
       "</style>\n",
       "<table border=\"1\" class=\"dataframe\">\n",
       "  <thead>\n",
       "    <tr style=\"text-align: right;\">\n",
       "      <th></th>\n",
       "      <th>Match</th>\n",
       "      <th>Definition</th>\n",
       "    </tr>\n",
       "  </thead>\n",
       "  <tbody>\n",
       "    <tr>\n",
       "      <th>0</th>\n",
       "      <td>sex' means</td>\n",
       "      <td>Biological sex.--The term `biological sex' mea...</td>\n",
       "    </tr>\n",
       "    <tr>\n",
       "      <th>1</th>\n",
       "      <td>biological sex' means</td>\n",
       "      <td>Biological sex.--The term `biological sex' mea...</td>\n",
       "    </tr>\n",
       "    <tr>\n",
       "      <th>2</th>\n",
       "      <td>gender' means</td>\n",
       "      <td>Gender.--The term `gender' means the psycholog...</td>\n",
       "    </tr>\n",
       "    <tr>\n",
       "      <th>3</th>\n",
       "      <td>gender transition' means</td>\n",
       "      <td>Gender transition.--The term `gender transitio...</td>\n",
       "    </tr>\n",
       "    <tr>\n",
       "      <th>4</th>\n",
       "      <td>gender transition procedure' means</td>\n",
       "      <td>In general.--The term `gender transition proce...</td>\n",
       "    </tr>\n",
       "    <tr>\n",
       "      <th>...</th>\n",
       "      <td>...</td>\n",
       "      <td>...</td>\n",
       "    </tr>\n",
       "    <tr>\n",
       "      <th>62</th>\n",
       "      <td>sex (which includes</td>\n",
       "      <td>Nondiscrimination.--No person in the United St...</td>\n",
       "    </tr>\n",
       "    <tr>\n",
       "      <th>63</th>\n",
       "      <td>gender identity' means</td>\n",
       "      <td>the term `Form 10-K' means the form described ...</td>\n",
       "    </tr>\n",
       "    <tr>\n",
       "      <th>64</th>\n",
       "      <td>orientation' means</td>\n",
       "      <td>the term `judgment' means, with respect to an ...</td>\n",
       "    </tr>\n",
       "    <tr>\n",
       "      <th>65</th>\n",
       "      <td>sex'' means</td>\n",
       "      <td>Biological sex.--The term ``biological sex'' m...</td>\n",
       "    </tr>\n",
       "    <tr>\n",
       "      <th>66</th>\n",
       "      <td>biological sex'' means</td>\n",
       "      <td>Biological sex.--The term ``biological sex'' m...</td>\n",
       "    </tr>\n",
       "  </tbody>\n",
       "</table>\n",
       "<p>67 rows × 2 columns</p>\n",
       "</div>"
      ],
      "text/plain": [
       "                                 Match  \\\n",
       "0                           sex' means   \n",
       "1                biological sex' means   \n",
       "2                        gender' means   \n",
       "3             gender transition' means   \n",
       "4   gender transition procedure' means   \n",
       "..                                 ...   \n",
       "62                 sex (which includes   \n",
       "63              gender identity' means   \n",
       "64                  orientation' means   \n",
       "65                         sex'' means   \n",
       "66              biological sex'' means   \n",
       "\n",
       "                                           Definition  \n",
       "0   Biological sex.--The term `biological sex' mea...  \n",
       "1   Biological sex.--The term `biological sex' mea...  \n",
       "2   Gender.--The term `gender' means the psycholog...  \n",
       "3   Gender transition.--The term `gender transitio...  \n",
       "4   In general.--The term `gender transition proce...  \n",
       "..                                                ...  \n",
       "62  Nondiscrimination.--No person in the United St...  \n",
       "63  the term `Form 10-K' means the form described ...  \n",
       "64  the term `judgment' means, with respect to an ...  \n",
       "65  Biological sex.--The term ``biological sex'' m...  \n",
       "66  Biological sex.--The term ``biological sex'' m...  \n",
       "\n",
       "[67 rows x 2 columns]"
      ]
     },
     "execution_count": 89,
     "metadata": {},
     "output_type": "execute_result"
    }
   ],
   "source": [
    "df"
   ]
  },
  {
   "cell_type": "code",
   "execution_count": 90,
   "id": "634bd97c",
   "metadata": {},
   "outputs": [
    {
     "data": {
      "text/plain": [
       "<bound method DataFrame.drop_duplicates of                                  Match  \\\n",
       "0                           sex' means   \n",
       "1                biological sex' means   \n",
       "2                        gender' means   \n",
       "3             gender transition' means   \n",
       "4   gender transition procedure' means   \n",
       "..                                 ...   \n",
       "62                 sex (which includes   \n",
       "63              gender identity' means   \n",
       "64                  orientation' means   \n",
       "65                         sex'' means   \n",
       "66              biological sex'' means   \n",
       "\n",
       "                                           Definition  \n",
       "0   Biological sex.--The term `biological sex' mea...  \n",
       "1   Biological sex.--The term `biological sex' mea...  \n",
       "2   Gender.--The term `gender' means the psycholog...  \n",
       "3   Gender transition.--The term `gender transitio...  \n",
       "4   In general.--The term `gender transition proce...  \n",
       "..                                                ...  \n",
       "62  Nondiscrimination.--No person in the United St...  \n",
       "63  the term `Form 10-K' means the form described ...  \n",
       "64  the term `judgment' means, with respect to an ...  \n",
       "65  Biological sex.--The term ``biological sex'' m...  \n",
       "66  Biological sex.--The term ``biological sex'' m...  \n",
       "\n",
       "[67 rows x 2 columns]>"
      ]
     },
     "execution_count": 90,
     "metadata": {},
     "output_type": "execute_result"
    }
   ],
   "source": [
    "# dropping any duplicates\n",
    "\n",
    "df.drop_duplicates"
   ]
  },
  {
   "cell_type": "code",
   "execution_count": 91,
   "id": "504be70a",
   "metadata": {},
   "outputs": [],
   "source": [
    "# saving to a csv file\n",
    "\n",
    "#####\n",
    "\n",
    "#####\n",
    "\n",
    "##### CHANGE THE FILENAME TO MAKE SURE ITS THE CORRECT TEXT\n",
    "\n",
    "#####\n",
    "\n",
    "#####\n",
    "\n",
    "df.to_csv('new_out/s_118_defs.csv')"
   ]
  },
  {
   "cell_type": "code",
   "execution_count": null,
   "id": "e90b82a2",
   "metadata": {},
   "outputs": [],
   "source": []
  }
 ],
 "metadata": {
  "kernelspec": {
   "display_name": "text [~/.conda/envs/text/]",
   "language": "python",
   "name": "conda_text"
  },
  "language_info": {
   "codemirror_mode": {
    "name": "ipython",
    "version": 3
   },
   "file_extension": ".py",
   "mimetype": "text/x-python",
   "name": "python",
   "nbconvert_exporter": "python",
   "pygments_lexer": "ipython3",
   "version": "3.11.8"
  }
 },
 "nbformat": 4,
 "nbformat_minor": 5
}
