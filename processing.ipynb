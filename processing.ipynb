{
 "cells": [
  {
   "cell_type": "code",
   "execution_count": 2,
   "id": "ce097697",
   "metadata": {},
   "outputs": [],
   "source": [
    "# import our matcher class\n",
    "import spacy\n",
    "from spacy.matcher import Matcher\n",
    "\n",
    "# load up the plain text from the bills\n",
    "with open ('./out/117s_text_clean.txt', 'r') as f:\n",
    "    text = f.read()"
   ]
  },
  {
   "cell_type": "code",
   "execution_count": 3,
   "id": "6e2b26fc",
   "metadata": {},
   "outputs": [],
   "source": [
    "# load the language model from spacy\n",
    "\n",
    "nlp = spacy.load(\"en_core_web_sm\")"
   ]
  },
  {
   "cell_type": "code",
   "execution_count": 4,
   "id": "f88203e4",
   "metadata": {},
   "outputs": [
    {
     "data": {
      "text/plain": [
       "['tok2vec', 'tagger', 'parser', 'attribute_ruler', 'lemmatizer', 'ner']"
      ]
     },
     "execution_count": 4,
     "metadata": {},
     "output_type": "execute_result"
    }
   ],
   "source": [
    "# check the pipe components\n",
    "\n",
    "nlp.pipe_names"
   ]
  },
  {
   "cell_type": "code",
   "execution_count": 5,
   "id": "023b902d",
   "metadata": {},
   "outputs": [
    {
     "data": {
      "text/plain": [
       "20706436"
      ]
     },
     "execution_count": 5,
     "metadata": {},
     "output_type": "execute_result"
    }
   ],
   "source": [
    "len(text)"
   ]
  },
  {
   "cell_type": "code",
   "execution_count": 6,
   "id": "8d39d535",
   "metadata": {},
   "outputs": [
    {
     "data": {
      "text/plain": [
       "'b\"Congressional Bills 117th CongressFrom the U.S. Government Publishing OfficeS. 5242 Introduced in Senate (IS)&lt;DOC&gt;117th CONGRESS2d SessionS. 5242To prevent international violence against women, and for otherpurposes. IN THE SENATE OF THE UNITED STATES December 13, 2022Mrs. Shaheen (for herself and Ms. Collins) introduced the following bill; which was read twice and referred to the Committee on ForeignRelations A BILL To prevent international violence against women, and for otherpurposes.Be it enacted by the Senate and House of Representatives of the United States of America in Congress assembled,SECTION 1. SHORT TITLE; TABLE OF CONTENTS.(a) Short Title; Table of Contents.--This Act may be cited as the ``International Violence Against Women Act of 2022\\'\\'.(b) Table of Contents.--The table of contents for this Act is as follows:Sec. 1. Short title; table of contents.Sec. 2. Findings.Sec. 3. Statement of policy.TITLE I--UNITED STATES STRATEGY TO PREVENT AND RESPOND TO GENDER-BASEDV'"
      ]
     },
     "execution_count": 6,
     "metadata": {},
     "output_type": "execute_result"
    }
   ],
   "source": [
    "text[:1000]"
   ]
  },
  {
   "cell_type": "code",
   "execution_count": 7,
   "id": "0a25a2ed",
   "metadata": {},
   "outputs": [],
   "source": [
    "# we want to split our bills into lists of individual bills, which\n",
    "# will make it easier to process with spacy later\n",
    "\n",
    "# split by text that is included in all the bills, for example\n",
    "# \"Congressional Bills 117th Congress\"\n",
    "\n",
    "texts = text.split('b\"Congressional Bills 117th Congress')"
   ]
  },
  {
   "cell_type": "code",
   "execution_count": 8,
   "id": "6c666eba",
   "metadata": {},
   "outputs": [
    {
     "data": {
      "text/plain": [
       "376"
      ]
     },
     "execution_count": 8,
     "metadata": {},
     "output_type": "execute_result"
    }
   ],
   "source": [
    "len(texts)"
   ]
  },
  {
   "cell_type": "code",
   "execution_count": 9,
   "id": "f4c9a842",
   "metadata": {},
   "outputs": [],
   "source": [
    "# the amount of text is overwhelming for spacy to process at once, so\n",
    "# make into lists for easier processing\n",
    "\n",
    "one = texts[:100]\n",
    "two = texts[200:300]\n",
    "three = texts[300:400]"
   ]
  },
  {
   "cell_type": "code",
   "execution_count": 201,
   "id": "cb12dfae",
   "metadata": {},
   "outputs": [
    {
     "data": {
      "text/plain": [
       "'From the U.S. Government Publishing OfficeS. 5242 Introduced in Senate (IS)&lt;DOC&gt;117th CONGRESS2d SessionS. 5242To prevent international violence against women, and for otherpurposes. IN THE SENATE OF THE UNITED STATES December 13, 2022Mrs. Shaheen (for herself and Ms. Collins) introduced the following bill; which was read twice and referred to the Committee on ForeignRelations A BILL To prevent international violence against women, and for otherpurposes.Be it enacted by the Senate and House of Representatives of the United States of America in Congress assembled,SECTION 1. SHORT TITLE; TABLE OF CONTENTS.(a) Short Title; Table of Contents.--This Act may be cited as the ``International Violence Against Women Act of 2022\\'\\'.(b) Table of Contents.--The table of contents for this Act is as follows:Sec. 1. Short title; table of contents.Sec. 2. Findings.Sec. 3. Statement of policy.TITLE I--UNITED STATES STRATEGY TO PREVENT AND RESPOND TO GENDER-BASEDVIOLENCE GLOBALLYSec. 101. Global strategy requirement. TITLE II--OVERSIGHT AND ACCOUNTABILITYSec. 201. Definitions.Sec. 202. Office of Global Women\\'s Issues.Sec. 203. Senior Coordinator for Gender Equality and Women\\'s Empowerment.Sec. 204. Briefing.SEC. 2. FINDINGS.Congress makes the following findings:(1) An estimated 1 out of every 3 women throughout the world will be beaten, coerced into sex, or otherwise abused in her lifetime.(2) Up to 70 percent of women in some countries report experiencing gender-based violence at some point in their lives.(3) Intimate partner violence is the most prevalent form of violence against women, preventing them from playing more active roles in the social, economic, and political development of their communities.(4) Sexual violence among adolescents and pre-adolescents is alarmingly high. National surveys in Swaziland, Tanzania, Zimbabwe, Kenya, and Haiti have found that between 28 and 38 percent of girls and between 9 and 18 percent of boys report experiencing sexual violence before reaching 18 years of age.(5) Adult male respondents in 6 countries who had experienced violence as children were significantly more likely to report perpetrating intimate partner violence themselves according to the International Men and Gender Equality Survey dataset.(6) Gender-based violence harms economies and the workers that fuel them. Despite underreporting, striking statistics document prevalent forms of gender-based violence globally that affect the world of work. Worldwide, women are concentrated in low-wage, insecure jobs in workplaces where they lack bargaining power, protections against gender-based violence, safe and confidential reporting systems, recourse to justice, or access to legal, medical, and psychosocial services.(7) Women living in poverty are particularly vulnerable to gender-based violence. Lack of economic opportunities often compels women to use desperate and dangerous means to provide for themselves and their families, risking significant exposure to labor exploitation and sexual exploitation and abuse for both women and their children.(8) Country studies indicate that the risk of HIV among women who have experienced violence may be up to three times higher than among those who have not experienced violence. The World Health Organization found that women who experience intimate partner violence are at more than 50 percent greater risk of HIV infection, and in some instances their risk of HIV infection increases four-fold. Women living with HIV are more likely to experience violence than other women, and fear of violence can prevent women from accessing HIV/AIDS information and receiving treatment and counseling.(9) Addressing gender inequality and gender-based violence is essential to reducing HIV risk and increasing access to HIV prevention, care and treatment services for women and men. The President\\'s Emergency Plan for AIDS Relief (PEPFAR) supports significant work in the field to incorporate efforts to prevent and respond to gender-based violence into existing HIV treatment and prevention programs.(10) Prevalence of sexual and physical violence is higher among persons with disabilities, particularly for adolescents and intimate partners with disabilities, and for men and women with intellectual impairments living in institutions. The World Health Organization reports that rates of gender-based violence are between 4 and 10 times greater among persons with disabilities compared to non-disabled persons.(11) Displaced, refugee, and stateless women and girls in humanitarian emergencies, conflict settings, and natural disasters face extreme violence and threats, including--(A) being forced to exchange sex for food and humanitarian supplies; and(B) being at increased risk of rape, sexual exploitation, trafficking, and abuse.(12) Rape and sexual assault against women and girls are used to torture, intimidate, and terrorize communities. Rape and sexual assault are used as tools of war in conflict zones, including the Democratic Republic of Congo, Iraq, Syria, Afghanistan, Colombia, and South Sudan.(13) Child and forced marriage--(A) is a harmful practice that deprives girls and women of their dignity and rights and creates barriers to development for communities and countries;(B) is projected to affect more than 140,000,000 girls around the world who have been or will be forced into marriage between 2011 and 2020;(C) can prematurely end girls\\' education, increase vulnerability to gender-based violence, and significantly raise the risk of maternal and infant morbidity or mortality, including the risk of obstetric fistula and sexually transmitted diseases, including HIV/AIDS; and(D) is perpetuated by poverty, a lack of educational or employment opportunities for girls, a lack of legal policies and enforcement of laws, and religious, cultural, and social factors related to girls\\' perceived lack of value, factors which become particularly acute in conflict and disaster settings where fears of sexual violence and overstretched coping mechanisms often drive child and forced marriage.(14) The harmful practice of female genital mutilation/cutting (FGM/C) is carried out most often on girls between infancy and 15 years of age and has impacted more than 125,000,000 girls and women around the world who are alive today. FGM/C can cause long-term health problems, including infertility, complications in childbirth, and increased risk of newborn deaths.(15) World Bank data shows that gender inequality directly corresponds to increased levels of political and economic instability within states. Gender-based violence impedes women\\'s meaningful participation in social, political, and economic spheres, which is essential to the stability and democratization of a country. Since women disproportionately experience gender-based violence during conflict and post-conflict reconstruction, they can play a pivotal role in preventing, mitigating, and resolving conflict, and countering extremism.(16) Gender-based violence is a contributing factor to human trafficking. Experts in the field have reported that women and girls who have experienced gender-based violence and live in societies that tolerate severe gender discrimination appear to be more vulnerable to being trafficked. Comprehensive efforts to reduce human trafficking must include efforts to prevent and respond to gender-based violence due to the intertwined relationship of the two crimes.(17) Faith-based organizations and faith leaders are key partners in the ongoing efforts to prevent and respond to gender-based violence. When properly engaged and equipped with knowledge and resources, such organizations and leaders can play a significant part in changing behaviors and norms and reducing gender-based violence. Particularly in countries that lack effective legal frameworks to address gender-based violence, such faith-based organizations and faith leaders have the standing and authority to address harmful practices, such as child marriage, intimate partner abuses, and acid throwing.SEC. 3. STATEMENT OF POLICY.It is the policy of the United States--(1) to take effective action to prevent and respond to gender-based violence around the world as a matter of basic human rights and to promote gender equality, economic growth, and improved public health;(2) to systematically integrate and coordinate efforts to prevent and respond to gender-based violence internationally into United States foreign policy and foreign assistance programs, including peace-building efforts and humanitarian relief and recovery;(3) to support and build local capacity in developing countries, including the capacity of governments at all levels, nongovernmental organizations, especially women-led organizations, to prevent and respond to gender-based violence;(4) to consult, cooperate, coordinate, and collaborate with a wide variety of nongovernmental partners with demonstrated experience in preventing and responding to gender-based violence, including faith-based organizations and women-led organizations;(5) to employ a multisectoral approach to preventing and responding to gender-based violence internationally, including activities in the economic, education, health, nutrition, legal, and judicial sectors;(6) to work at all levels, from the individual to the family, community, local, national, and international levels, to prevent and respond to gender-based violence around the world;(7) to enhance training by United States personnel of professional foreign military and police forces, judicial officials, and other public justice system officials, including prosecutors, including specific and thorough instruction on preventing and responding to gender-based violence around the world;(8) to engage men and boys as partners, as an essential element of making sustained reductions in gender-based violence;(9) to include the prevention of child and forced marriage as an important part of United States Government efforts to prevent violence against girls and promote gender equality and global health;(10) to require that all United States contractors and grantees establish appropriate policies and take effective measures to prevent gender-based violence and sexual exploitation and abuse, including within the workforce;(11) to exert sustained international leadership to prevent and respond to gender-based violence, including in bilateral and multilateral fora; and(12) to implement a strategy to prevent and respond to gender-based violence globally.TITLE I--UNITED STATES STRATEGY TO PREVENT AND RESPOND TO GENDER-BASEDVIOLENCE GLOBALLYSEC. 101. GLOBAL STRATEGY REQUIREMENT.(a) In General.--Not later than 180 days after the date of the enactment of this Act, and every 4 years thereafter, the Ambassador-at-Large for Global Women\\'s Issues at the Department of State appointed pursuant to section 201 (referred to in this section as the ``Ambassador-at-Large\\'\\'), in consultation with the Senior Coordinator for Gender Equality and Women\\'s Empowerment at the United States Agency for International Development appointed pursuant to section 202 (referred to in this section as the ``Senior Coordinator\\'\\'), shall--(1) develop or update, in consultation with civil society, including service providers, a United States global strategy to prevent and respond to gender-based violence, using evidence-based interventions and standards that address the root causes of, and provide comprehensive responses to, gender-based violence;(2) submit the strategy under paragraph (1) to the appropriate congressional committees for comment and review; and(3) make the strategy publicly available on the internet.(b) Initial Strategy.--For the purposes of this section, an existing United States strategy to prevent and respond to gender-based violence may be deemed to fulfill the initial requirement under subsection (a).(c) Collaboration and Coordination.--In developing the strategy under subsection (a), the Ambassador-at-Large and the Senior Coordinator shall consult with--(1) the heads of relevant Federal agencies;(2) the Senior Policy Operating Group on Trafficking in Persons; and(3) representatives of civil society, including nongovernmental organizations, faith-based organizations, multilateral organizations, local and international civil society groups, and local service providers and beneficiaries with demonstrated experience in addressing gender-based violence or promoting gender equality internationally.(d) Use of Funds.--Amounts appropriated or otherwise made available to carry out the activities under this section shall be subject to all applicable restrictions under Federal law.(e) Rule of Construction.--Nothing in this section may be construed to authorize any additional appropriations to carry out the strategy under subsection (a). TITLE II--OVERSIGHT AND ACCOUNTABILITYSEC. 201. DEFINITIONS.In this title:(1) Agency.--The term ``Agency\\'\\' means the United States Agency for International Development.(2) Ambassador.--The term ``Ambassador\\'\\' means the Ambassador-at-Large for Global Women\\'s Issues appointed by the President pursuant to section 202(a).(3) Appropriate congressional committees.--The term ``appropriate congressional committees\\'\\' means--(A) the Committee on Foreign Relations of the Senate;(B) the Committee on Appropriations of the Senate;(C) the Committee on Foreign Affairs of the House of Representatives; and(D) the Committee on Appropriations of the House of Representatives.(4) Gender analysis.--The term ``gender analysis\\'\\'--(A) means a socioeconomic analysis of available or gathered quantitative and qualitative information to identify, understand, and explain gaps between men and women, which typically involves examining--(i) differences in the status of women and men and differential access to and control over assets, resources, education, opportunities, and services;(ii) the influence of gender roles, structural barriers, and norms on the division of time between paid, unpaid work (including the subsistence production and care for family members), and volunteer activities;(iii) the influence of gender roles, structural barriers, and norms on leadership roles and decision making; constraints, opportunities, and entry points for narrowing gender gaps and empowering women; and(iv) potential differential impacts of development policies and programs on men and women, including unintended or negative consequences; and(B) includes conclusions and recommendations to enable development policies and programs--(i) to narrow gender gaps; and(ii) to improve the lives of women and girls.(5) Office.--The term ``Office\\'\\' means the Office of Global Women\\'s Issues established by the Secretary of State pursuant to section 202(a).(6) Senior coordinator.--The term ``Senior Coordinator\\'\\' means the Senior Coordinator for Gender Equality and Women\\'s Empowerment at the Agency.SEC. 202. OFFICE OF GLOBAL WOMEN\\'S ISSUES.(a) Establishment.--The Secretary of State shall establish in the Office of the Secretary of the Department of State the Office of Global Women\\'s Issues. The Office shall be headed by an Ambassador-at-Large for Global Women\\'s Issues, who shall be appointed by the President, by and with the advice and consent of the Senate. The Ambassador shall report directly to the Secretary and shall have the rank and status of Ambassador-at-Large.(b) Purpose.--In addition to the duties described in subsection (c) and duties determined by the Secretary of State, the Ambassador shall coordinate efforts of the United States Government as directed by the Secretary regarding approaches that promote equality and advance the status of women and girls in United States foreign policy.(c) Duties.--(1) In general.--The Ambassador--(A) in consultation with the Senior Coordinator, shall direct activities, policies, programs, and funding relating to gender equality and the advancement of women and girls internationally, including those intended to prevent and respond to gender-based violence, for all bureaus and offices of the Department of State;(B) shall actively promote and advance the integration of gender analysis into the programs, structures, processes, and capacities of bureaus and offices of the Department of State and in the international programs of other Federal agencies;(C) shall direct United States Government resources, as appropriate, to respond to needs for promoting gender equality and the empowerment of women in United States Government foreign policies and international programs, including to prevent and respond to gender-based violence internationally;(D) may design, support, and implement activities regarding empowerment of women internationally, including for the prevention of and response to gender-based violence internationally;(E) shall conduct regular consultation with civil society organizations working to prevent and respond to gender-based violence internationally;(F) shall ensure that programs, projects, and activities designed to prevent and respond to gender-based violence internationally are subject to rigorous monitoring and evaluation, and that there is a uniform set of indicators and standards for such monitoring and evaluation that is used across all Federal agencies;(G) shall serve as the principal advisor to the Secretary of State regarding gender equality, women\\'s empowerment, and gender-based violence as a foreign policy matter; and(H) is authorized to represent the United States in diplomatic and multilateral fora on matters relevant to the status of women and girls, including gender-based violence internationally.(2) Information sharing and transparency.--The Office--(A) shall be the central repository of data on all United States programs, projects, and activities that relate to prevention and response to gender-based violence around the world; and(B) shall produce a full accounting of United States Government spending on such programs, projects, and activities.SEC. 203. SENIOR COORDINATOR FOR GENDER EQUALITY AND WOMEN\\'S EMPOWERMENT.(a) Establishment.--There is established in the Agency the position of Senior Coordinator for Gender Equality and Women\\'s Empowerment. The Senior Coordinator shall--(1) report to the Administrator of the Agency; and(2) conduct duties as directed by the Administrator to promote the purposes of this Act.(b) In General.--The Senior Coordinator--(1) in consultation with the Ambassador, shall coordinate activities, policies, programs, and funding of the Agency relating to gender equality and women\\'s empowerment, including those intended to prevent and respond to gender-based violence;(2) shall actively promote and advance the integration of gender analysis into the programs, structures, processes, and capacities of all bureaus and offices of the Agency as dictated by the Agency\\'s Gender Equality and Female Empowerment Policy;(3) shall coordinate Agency resources for gender equality and women\\'s empowerment, including to prevent and respond to gender-based violence internationally;(4) may design, support, and implement activities led by the Agency regarding gender equality and women\\'s empowerment, including for the prevention and response to gender-based violence internationally;(5) shall conduct regular consultation with civil society organizations working to prevent and respond to gender-based violence internationally;(6) shall serve as the principal advisor to the Administrator regarding gender equality, women\\'s empowerment, and gender-based violence; and(7) shall track and analyze monitoring and evaluation data and findings on international prevention and response programs of the Agency, consistent with Agency-wide monitoring and evaluation activities, to assist in the preparation of the comprehensive strategy developed under section 101(a).SEC. 204. BRIEFING.Not later than 180 days after the date of the enactment of this Act, and annually thereafter, the Ambassador and the Senior Coordinator shall provide, to the appropriate congressional committees--(1) a briefing on international gender-based violence prevention and response strategies, programming, and associated outcomes; and(2) an assessment of human and financial resources necessary to fulfill the purposes and duties under this Act. &lt;all&gt;</pre></body></html>\"'"
      ]
     },
     "execution_count": 201,
     "metadata": {},
     "output_type": "execute_result"
    }
   ],
   "source": [
    "# check the first item\n",
    "one[1]"
   ]
  },
  {
   "cell_type": "code",
   "execution_count": 11,
   "id": "a53aea7a",
   "metadata": {},
   "outputs": [],
   "source": [
    "# join the texts into one long string again\n",
    "\n",
    "text = ''.join(one)"
   ]
  },
  {
   "cell_type": "code",
   "execution_count": 13,
   "id": "b5c80a79",
   "metadata": {},
   "outputs": [],
   "source": [
    "# create an entity ruler to label gender terms as \"gender\", etc\n",
    "\n",
    "ruler = nlp.add_pipe(\"entity_ruler\", after=\"ner\")\n",
    "\n",
    "patterns = [\n",
    "                {\"label\": \"GENDER\", \"pattern\": 'gender'},\n",
    "                {\"label\": \"GENDER\", \"pattern\": 'trans'},\n",
    "                {\"label\": \"GENDER\", \"pattern\": 'nonbinary'},\n",
    "                {\"label\": \"GENDER\", \"pattern\": 'male'},\n",
    "                {\"label\": \"GENDER\", \"pattern\": 'female'},\n",
    "                {\"label\": \"SEX\", \"pattern\": 'sex'},\n",
    "                {\"label\": \"SEX\", \"pattern\": 'biological'},\n",
    "                {\"label\": \"SEXUALITY\", \"pattern\": 'sexuality'},\n",
    "                {\"label\": \"SEXUALITY\", \"pattern\": 'orientation'},\n",
    "                {\"label\": \"SEXUALITY\", \"pattern\": 'queer'},\n",
    "            ]\n",
    "\n",
    "ruler.add_patterns(patterns)"
   ]
  },
  {
   "cell_type": "code",
   "execution_count": 14,
   "id": "89988ad8",
   "metadata": {},
   "outputs": [
    {
     "data": {
      "text/plain": [
       "['tok2vec',\n",
       " 'tagger',\n",
       " 'parser',\n",
       " 'attribute_ruler',\n",
       " 'lemmatizer',\n",
       " 'ner',\n",
       " 'entity_ruler']"
      ]
     },
     "execution_count": 14,
     "metadata": {},
     "output_type": "execute_result"
    }
   ],
   "source": [
    "# check pipe names to make sure our entity ruler is added\n",
    "\n",
    "nlp.pipe_names"
   ]
  },
  {
   "cell_type": "code",
   "execution_count": 15,
   "id": "e63bedcf",
   "metadata": {},
   "outputs": [],
   "source": [
    "# run the nlp() function on our texts to get the docs object\n",
    "# may have to change max length depending if you get the error when \n",
    "# running nlp()\n",
    "\n",
    "nlp.max_length = 9945910\n",
    "docs = nlp(text)"
   ]
  },
  {
   "cell_type": "code",
   "execution_count": 16,
   "id": "de0338c4",
   "metadata": {},
   "outputs": [
    {
     "data": {
      "text/plain": [
       "From the U.S. Government Publishing OfficeS. 5242 Introduced in Senate (IS)&lt;DOC&gt;117th CONGRESS2d SessionS. 5242To prevent international violence against women, and for otherpurposes. IN THE SENATE OF THE UNITED STATES December 13, 2022Mrs. Shaheen (for herself and Ms. Collins) introduced the following bill; which was read twice and referred to the Committee on ForeignRelations A BILL To prevent international violence against women, and for otherpurposes.Be it enacted by the Senate and House of Representatives of the United States of America in Congress assembled,SECTION 1. SHORT TITLE; TABLE OF CONTENTS.(a) Short Title; Table of Contents.--This Act may be cited as the ``International Violence Against Women Act of 2022''.(b) Table of Contents.--The table of contents for this Act is as follows:Sec. 1. Short title; table of contents.Sec. 2. Findings.Sec. 3. Statement of policy.TITLE I--UNITED STATES STRATEGY TO PREVENT AND RESPOND TO GENDER-BASEDVIOLENCE GLOBALLYSec. 101. Global strategy requirement. TITLE II--OVERSIGHT AND ACCOUNTABILITYSec. 201. Definitions.Sec. 202. Office of Global Women's Issues.Sec. 203. Senior Coordinator for Gender Equality and Women's Empowerment.Sec. 204. Briefing.SEC. 2. FINDINGS.Congress makes the following findings:(1) An estimated 1 out of every 3 women throughout the world will be beaten, coerced into sex, or otherwise abused in her lifetime.(2) Up to 70 percent of women in some countries report experiencing gender-based violence at some point in their lives.(3) Intimate partner violence is the most prevalent form of violence against women, preventing them from playing more active roles in the social, economic, and political development of their communities.(4) Sexual violence among adolescents and pre-adolescents is alarmingly high. National surveys in Swaziland, Tanzania, Zimbabwe, Kenya, and Haiti have found that between 28 and 38 percent of girls and between 9 and 18 percent of boys report experiencing sexual violence before reaching 18 years of age.(5) Adult male respondents in 6 countries who had experienced violence as children were significantly more likely to report perpetrating intimate partner violence themselves according to the International Men and Gender Equality Survey dataset.(6) Gender-based violence harms economies and the workers that fuel them. Despite underreporting, striking statistics document prevalent forms of gender-based violence globally that affect the world of work. Worldwide, women are concentrated in low-wage, insecure jobs in workplaces where they lack bargaining power, protections against gender-based violence, safe and confidential reporting systems, recourse to justice, or access to legal, medical, and psychosocial services.(7) Women living in poverty are particularly vulnerable to gender-based violence. Lack of economic opportunities often compels women to use desperate and dangerous means to provide for themselves and their families, risking significant exposure to labor exploitation and sexual exploitation and abuse for both women and their children.(8) Country studies indicate that the risk of HIV among women who have experienced violence may be up to three times higher than among those who have not experienced violence. The World Health Organization found that women who experience intimate partner violence are at more than 50 percent greater risk of HIV infection, and in some instances their risk of HIV infection increases four-fold. Women living with HIV are more likely to experience violence than other women, and fear of violence can prevent women from accessing HIV/AIDS information and receiving treatment and counseling.(9) Addressing gender inequality and gender-based violence is essential to reducing HIV risk and increasing access to HIV prevention, care and treatment services for women and men. The President's Emergency Plan for AIDS Relief (PEPFAR) supports significant work in the field to incorporate efforts to prevent and respond to gender-based violence into existing HIV treatment and prevention programs.(10) Prevalence of sexual and physical violence is higher among persons with disabilities, particularly for adolescents and intimate partners with disabilities, and for men and women with intellectual impairments living in institutions. The World Health Organization reports that rates of gender-based violence are between 4 and 10 times greater among persons with disabilities compared to non-disabled persons.(11) Displaced, refugee, and stateless women and girls in humanitarian emergencies, conflict settings, and natural disasters face extreme violence and threats, including--(A) being forced to exchange sex for food and humanitarian supplies; and(B) being at increased risk of rape, sexual exploitation, trafficking, and abuse.(12) Rape and sexual assault against women and girls are used to torture, intimidate, and terrorize communities. Rape and sexual assault are used as tools of war in conflict zones, including the Democratic Republic of Congo, Iraq, Syria, Afghanistan, Colombia, and South Sudan.(13) Child and forced marriage--(A) is a harmful practice that deprives girls and women of their dignity and rights and creates barriers to development for communities and countries;(B) is projected to affect more than 140,000,000 girls around the world who have been or will be forced into marriage between 2011 and 2020;(C) can prematurely end girls' education, increase vulnerability to gender-based violence, and significantly raise the risk of maternal and infant morbidity or mortality, including the risk of obstetric fistula and sexually transmitted diseases, including HIV/AIDS; and(D) is perpetuated by poverty, a lack of educational or employment opportunities for girls, a lack of legal policies"
      ]
     },
     "execution_count": 16,
     "metadata": {},
     "output_type": "execute_result"
    }
   ],
   "source": [
    "docs[:1000]"
   ]
  },
  {
   "cell_type": "code",
   "execution_count": 17,
   "id": "30db3d0f",
   "metadata": {},
   "outputs": [
    {
     "data": {
      "text/plain": [
       "446207"
      ]
     },
     "execution_count": 17,
     "metadata": {},
     "output_type": "execute_result"
    }
   ],
   "source": [
    "len(docs)"
   ]
  },
  {
   "cell_type": "code",
   "execution_count": 18,
   "id": "2ed04939",
   "metadata": {},
   "outputs": [
    {
     "name": "stdout",
     "output_type": "stream",
     "text": [
      "From\n",
      "ADP\n",
      "prep\n",
      "the\n",
      "DET\n",
      "det\n",
      "U.S.\n",
      "PROPN\n",
      "compound\n",
      "Government\n",
      "PROPN\n",
      "compound\n",
      "Publishing\n",
      "PROPN\n",
      "pobj\n",
      "OfficeS.\n",
      "PROPN\n",
      "pobj\n",
      "5242\n",
      "NUM\n",
      "nummod\n",
      "Introduced\n",
      "VERB\n",
      "advcl\n",
      "in\n",
      "ADP\n",
      "prep\n",
      "Senate\n",
      "PROPN\n",
      "pobj\n"
     ]
    }
   ],
   "source": [
    "# making sure we have all of the components correct in the docs object\n",
    "\n",
    "for token in docs[:10]:\n",
    "    print(token)\n",
    "    print(token.pos_)\n",
    "    print(token.dep_)"
   ]
  },
  {
   "cell_type": "code",
   "execution_count": 220,
   "id": "e28e2c9f",
   "metadata": {},
   "outputs": [
    {
     "name": "stdout",
     "output_type": "stream",
     "text": [
      "sex SEX\n",
      "gender GENDER\n",
      "male GENDER\n",
      "gender GENDER\n",
      "gender GENDER\n",
      "gender GENDER\n",
      "gender GENDER\n",
      "gender GENDER\n",
      "gender GENDER\n",
      "gender GENDER\n",
      "sex SEX\n",
      "gender GENDER\n",
      "female GENDER\n",
      "gender GENDER\n",
      "gender GENDER\n",
      "gender GENDER\n",
      "gender GENDER\n",
      "gender GENDER\n",
      "gender GENDER\n",
      "gender GENDER\n",
      "gender GENDER\n",
      "gender GENDER\n",
      "gender GENDER\n",
      "gender GENDER\n",
      "gender GENDER\n",
      "gender GENDER\n",
      "gender GENDER\n",
      "gender GENDER\n"
     ]
    }
   ],
   "source": [
    "# making sure we have entities correct in docs object\n",
    "\n",
    "labels = ['GENDER', 'SEX', 'SEXUALITY']\n",
    "for ent in docs.ents[:100]:\n",
    "    if ent.label_ in labels:\n",
    "        print(ent.text, ent.label_)"
   ]
  },
  {
   "cell_type": "code",
   "execution_count": 20,
   "id": "41024fed",
   "metadata": {},
   "outputs": [],
   "source": [
    "# writing a pattern matcher to grab patterns of text where gender terms are being defined\n",
    "\n",
    "pattern = [ \n",
    "      {\n",
    "          # punctuation that appears zero or more\n",
    "          'IS_PUNCT': True, 'OP': '*'\n",
    "      },\n",
    "      {\n",
    "          # specifying the entity type, which can be one of our three\n",
    "          # custom entities\n",
    "          \"ENT_TYPE\": {\n",
    "              'IN': [\n",
    "                  'GENDER', 'SEX', 'SEXUALITY'\n",
    "              ]\n",
    "          }\n",
    "      },\n",
    "      {'OP': '?'}, # catches a \"wild card\" if it appears zero or one time\n",
    "      {'OP': '?'}, # catches a \"wild card\" if it appears zero or one time.\n",
    "      {\n",
    "          'IS_PUNCT': True, 'OP': '*' # catches punctuation that appears zero or more times\n",
    "      },\n",
    "      {\n",
    "          # getting the lowercase word of any of the following terms\n",
    "          'LOWER': {\n",
    "              'IN': [\n",
    "                  'means', 'signifies', 'includes'\n",
    "              ]\n",
    "          }\n",
    "      }\n",
    "  ]"
   ]
  },
  {
   "cell_type": "code",
   "execution_count": 180,
   "id": "8d6d9934",
   "metadata": {},
   "outputs": [],
   "source": [
    "# use matcher class to create a matcher object\n",
    "matcher = Matcher(nlp.vocab)\n",
    "\n",
    "# add pattern to matcher\n",
    "matcher.add('definition', [pattern])\n",
    "\n",
    "# run matcher over doc\n",
    "matches = matcher(docs)"
   ]
  },
  {
   "cell_type": "code",
   "execution_count": 181,
   "id": "2191c73f",
   "metadata": {},
   "outputs": [
    {
     "data": {
      "text/plain": [
       "40"
      ]
     },
     "execution_count": 181,
     "metadata": {},
     "output_type": "execute_result"
    }
   ],
   "source": [
    "len(matches)"
   ]
  },
  {
   "cell_type": "code",
   "execution_count": 182,
   "id": "7107d175",
   "metadata": {},
   "outputs": [
    {
     "name": "stdout",
     "output_type": "stream",
     "text": [
      "definition 2285 2289 gender analysis''--(A) means\n",
      "Gender analysis.--The term ``gender analysis''--(A) means a socioeconomic analysis of available or gathered quantitative and qualitative information to identify, understand, and explain gaps between men and women, which typically involves examining--(i) differences in the status of women and men and differential access to and control over assets, resources, education, opportunities, and services;(ii) the influence of gender roles, structural barriers, and norms on the division of time between paid, unpaid work (including the subsistence production and care for family members), and volunteer activities;(iii) the influence of gender roles, structural barriers, and norms on leadership roles and decision making; constraints, opportunities, and entry points for narrowing gender gaps and empowering women; and(iv) potential differential impacts of development policies and programs on men and women, including unintended or negative consequences; and(B) includes conclusions and recommendations to enable development policies and programs--(i) to narrow gender gaps; and(ii) to improve the lives of women and girls.(5) Office.--The term ``Office'' means the Office of Global Women's Issues established by the Secretary of State pursuant to section 202(a).(6)\n",
      "\n",
      "\n",
      "definition 6416 6418 orientation includes\n",
      "An explicit and comprehensive national solution is needed to address this discrimination, including the full range of remedies available under the Civil Rights Act of 1964.(12) Discrimination based on sexual orientation includes discrimination based on an individual's actual or perceived romantic, emotional, physical, or sexual attraction to other persons, or lack thereof, on the basis of gender.\n",
      "\n",
      "\n",
      "definition 9671 9675 gender identity' means\n",
      "Gender identity.--The term `gender identity' means the gender-related identity, appearance, mannerisms, or other gender-related characteristics of an individual, regardless of the individual's designated sex at birth.\n",
      "\n",
      "\n",
      "definition 9776 9779 orientation' means\n",
      "``(5) Sexual orientation.--The term `sexual orientation' means homosexuality, heterosexuality, or bisexuality.\n",
      "\n",
      "\n",
      "definition 11844 11849 gender transition procedure' means\n",
      "In general.--The term `gender transition procedure' means any medical or surgical service which seeks to alter or remove physiological or anatomical characteristics or features which are typical for the individual's biological sex, or to instill or create physiological or anatomical characteristics which resemble a sex different from the individual's birth sex, for the purpose of gender transition, including--``(I) physician's services and inpatient and outpatient hospital services, including gender transition surgery, and``(II) prescribed drugs related to gender transition, including puberty-blocking drugs, cross-sex hormones, or other mechanisms to promote the development of feminizing or masculinizing features (in the opposite sex).``(ii) Exceptions.--Such term does not include--``(I) services for treatment of a medically-verifiable disorder of sex development, including--``(aa) external biological sex characteristics which are irresolvably ambiguous, such as presence of 46 XX chromosomes with virilization, 46 XY chromosomes with undervirilization, or both ovarian and testicular tissue, or``(bb) other physician-diagnosed disorder of sexual development, with respect to which the physician has determined through genetic or biochemical testing that the individual does not have normal sex chromosome structure, sex steroid hormone production, or sex steroid hormone action for a biological male or biological female, or``(II) treatment of any infection, injury, disease, or disorder caused or exacerbated by the performance of any gender transition procedure, whether or not the gender transition procedure was performed in accordance with State and Federal law or whether not a deduction for expenses in connection with the gender transition procedure is allowable under this chapter.\n",
      "\n",
      "\n",
      "definition 12131 12134 gender' means\n",
      "Gender.--The term `gender' means the psychological, behavioral, social, and cultural aspects of being male or female.\n",
      "\n",
      "\n",
      "definition 12156 12160 gender transition' means\n",
      "Gender transition.--The term `gender transition' means the process in which an individual goes from identifying with and living as a gender that corresponds to his or her biological sex to identifying with and living as a gender different from his or her biological sex, and may involve social, legal, or physical changes.\n",
      "\n",
      "\n",
      "definition 12220 12225 gender transition surgery' means\n",
      "In general.--The term `gender transition surgery' means any surgical service, including genital or non-genital surgery, performed for the purpose of assisting an individual with a gender transition.\n",
      "\n",
      "\n",
      "definition 12535 12540 -sex hormones' means\n",
      "hormones.--The term `cross-sex hormones' means testosterone or other androgens given to biological females at doses which are profoundly larger or more potent than would normally occur naturally in healthy biological females, and estrogen given to biological males at doses which are profoundly larger or more potent than would normally occur naturally in healthy biological males.\n",
      "\n",
      "\n",
      "definition 12536 12540 sex hormones' means\n",
      "hormones.--The term `cross-sex hormones' means testosterone or other androgens given to biological females at doses which are profoundly larger or more potent than would normally occur naturally in healthy biological females, and estrogen given to biological males at doses which are profoundly larger or more potent than would normally occur naturally in healthy biological males.\n",
      "\n",
      "\n"
     ]
    }
   ],
   "source": [
    "# printing first ten matches\n",
    "\n",
    "for match_id, start, end in matches[:10]:\n",
    "    string_id = nlp.vocab.strings[match_id]  # Get string representation\n",
    "    span = docs[start:end]  # The matched span\n",
    "    print(string_id, start, end, span.text)\n",
    "    print(docs[start].sent)\n",
    "    print('\\n')"
   ]
  },
  {
   "cell_type": "code",
   "execution_count": 183,
   "id": "54faea16",
   "metadata": {},
   "outputs": [],
   "source": [
    "# writing results to text file\n",
    "\n",
    "results = []\n",
    "for match_id, start, end in matches:\n",
    "    string_id = nlp.vocab.strings[match_id]  # Get string representation\n",
    "    span = docs[start:end]  # The matched span\n",
    "    results.append(str((' ')))\n",
    "    results.append(str(span.text))\n",
    "    results.append(str(('\\n')))\n",
    "    results.append(str(docs[start].sent))\n",
    "    results.append(str('\\n'))\n",
    "    # defs.append(str(('\\n ')))\n",
    "    \n",
    "with open('test/save_text.txt', 'w') as f:\n",
    "    for line in results:\n",
    "        f.writelines(line)"
   ]
  },
  {
   "cell_type": "markdown",
   "id": "53e183ce",
   "metadata": {},
   "source": [
    "# from text to csv\n",
    "Now, we will load up the text file we just saved, with the goal of re-formatting it into a CSV file."
   ]
  },
  {
   "cell_type": "code",
   "execution_count": 184,
   "id": "2b6afce4",
   "metadata": {},
   "outputs": [],
   "source": [
    "# loading up the text file\n",
    "\n",
    "with open('test/save_text.txt', 'r') as f:\n",
    "    text = f.read()"
   ]
  },
  {
   "cell_type": "code",
   "execution_count": 185,
   "id": "db8455a7",
   "metadata": {},
   "outputs": [
    {
     "data": {
      "text/plain": [
       "\" gender analysis''--(A) means\\nGender analysis.--The term ``gender analysis''--(A) means a socioeconomic analysis of available or gathered quantitative and qualitative information to identify, understand, and explain gaps between men and women, which typically involves examining--(i) differences in the status of women and men and differential access to and control over assets, resources, education, opportunities, and services;(ii) the influence of gender roles, structural barriers, and norms on the division of time between paid, unpaid work (including the subsistence production and care for family members), and volunteer activities;(iii) the influence of gender roles, structural barriers, and norms on leadership roles and decision making; constraints, opportunities, and entry points for narrowing gender gaps and empowering women; and(iv) potential differential impacts of development policies and programs on men and women, including unintended or negative consequences; and(B) includes co\""
      ]
     },
     "execution_count": 185,
     "metadata": {},
     "output_type": "execute_result"
    }
   ],
   "source": [
    "text[:1000]"
   ]
  },
  {
   "cell_type": "code",
   "execution_count": 186,
   "id": "16fb6323",
   "metadata": {},
   "outputs": [],
   "source": [
    "# want separate out our text into individual strings, using new lines as delimiter\n",
    "# for item in text\n",
    "# split item by \"/n\"\n",
    "\n",
    "splitted = text.split('\\n')\n"
   ]
  },
  {
   "cell_type": "code",
   "execution_count": 187,
   "id": "6c6c49dc",
   "metadata": {},
   "outputs": [
    {
     "data": {
      "text/plain": [
       "[\" gender analysis''--(A) means\",\n",
       " \"Gender analysis.--The term ``gender analysis''--(A) means a socioeconomic analysis of available or gathered quantitative and qualitative information to identify, understand, and explain gaps between men and women, which typically involves examining--(i) differences in the status of women and men and differential access to and control over assets, resources, education, opportunities, and services;(ii) the influence of gender roles, structural barriers, and norms on the division of time between paid, unpaid work (including the subsistence production and care for family members), and volunteer activities;(iii) the influence of gender roles, structural barriers, and norms on leadership roles and decision making; constraints, opportunities, and entry points for narrowing gender gaps and empowering women; and(iv) potential differential impacts of development policies and programs on men and women, including unintended or negative consequences; and(B) includes conclusions and recommendations to enable development policies and programs--(i) to narrow gender gaps; and(ii) to improve the lives of women and girls.(5) Office.--The term ``Office'' means the Office of Global Women's Issues established by the Secretary of State pursuant to section 202(a).(6)\",\n",
       " ' orientation includes',\n",
       " \"An explicit and comprehensive national solution is needed to address this discrimination, including the full range of remedies available under the Civil Rights Act of 1964.(12) Discrimination based on sexual orientation includes discrimination based on an individual's actual or perceived romantic, emotional, physical, or sexual attraction to other persons, or lack thereof, on the basis of gender.\",\n",
       " \" gender identity' means\",\n",
       " \"Gender identity.--The term `gender identity' means the gender-related identity, appearance, mannerisms, or other gender-related characteristics of an individual, regardless of the individual's designated sex at birth.\",\n",
       " \" orientation' means\",\n",
       " \"``(5) Sexual orientation.--The term `sexual orientation' means homosexuality, heterosexuality, or bisexuality.\",\n",
       " \" gender transition procedure' means\",\n",
       " \"In general.--The term `gender transition procedure' means any medical or surgical service which seeks to alter or remove physiological or anatomical characteristics or features which are typical for the individual's biological sex, or to instill or create physiological or anatomical characteristics which resemble a sex different from the individual's birth sex, for the purpose of gender transition, including--``(I) physician's services and inpatient and outpatient hospital services, including gender transition surgery, and``(II) prescribed drugs related to gender transition, including puberty-blocking drugs, cross-sex hormones, or other mechanisms to promote the development of feminizing or masculinizing features (in the opposite sex).``(ii) Exceptions.--Such term does not include--``(I) services for treatment of a medically-verifiable disorder of sex development, including--``(aa) external biological sex characteristics which are irresolvably ambiguous, such as presence of 46 XX chromosomes with virilization, 46 XY chromosomes with undervirilization, or both ovarian and testicular tissue, or``(bb) other physician-diagnosed disorder of sexual development, with respect to which the physician has determined through genetic or biochemical testing that the individual does not have normal sex chromosome structure, sex steroid hormone production, or sex steroid hormone action for a biological male or biological female, or``(II) treatment of any infection, injury, disease, or disorder caused or exacerbated by the performance of any gender transition procedure, whether or not the gender transition procedure was performed in accordance with State and Federal law or whether not a deduction for expenses in connection with the gender transition procedure is allowable under this chapter.\"]"
      ]
     },
     "execution_count": 187,
     "metadata": {},
     "output_type": "execute_result"
    }
   ],
   "source": [
    "splitted[:10]"
   ]
  },
  {
   "cell_type": "code",
   "execution_count": 190,
   "id": "d8d2386c",
   "metadata": {},
   "outputs": [],
   "source": [
    "# creating lists of our matches and the definitions\n",
    "\n",
    "defs = []\n",
    "matches = []\n",
    "for item in splitted:\n",
    "    if item != '':\n",
    "        space = ' '\n",
    "        if space == item[0]:\n",
    "            defs.append(item.strip())\n",
    "        else:\n",
    "            matches.append(item)"
   ]
  },
  {
   "cell_type": "code",
   "execution_count": 191,
   "id": "aeacf1de",
   "metadata": {},
   "outputs": [
    {
     "data": {
      "text/plain": [
       "[\"gender analysis''--(A) means\",\n",
       " 'orientation includes',\n",
       " \"gender identity' means\",\n",
       " \"orientation' means\",\n",
       " \"gender transition procedure' means\",\n",
       " \"gender' means\",\n",
       " \"gender transition' means\",\n",
       " \"gender transition surgery' means\",\n",
       " \"-sex hormones' means\",\n",
       " \"sex hormones' means\"]"
      ]
     },
     "execution_count": 191,
     "metadata": {},
     "output_type": "execute_result"
    }
   ],
   "source": [
    "defs[:10]"
   ]
  },
  {
   "cell_type": "code",
   "execution_count": 192,
   "id": "8969f85a",
   "metadata": {},
   "outputs": [
    {
     "data": {
      "text/plain": [
       "[\"Gender analysis.--The term ``gender analysis''--(A) means a socioeconomic analysis of available or gathered quantitative and qualitative information to identify, understand, and explain gaps between men and women, which typically involves examining--(i) differences in the status of women and men and differential access to and control over assets, resources, education, opportunities, and services;(ii) the influence of gender roles, structural barriers, and norms on the division of time between paid, unpaid work (including the subsistence production and care for family members), and volunteer activities;(iii) the influence of gender roles, structural barriers, and norms on leadership roles and decision making; constraints, opportunities, and entry points for narrowing gender gaps and empowering women; and(iv) potential differential impacts of development policies and programs on men and women, including unintended or negative consequences; and(B) includes conclusions and recommendations to enable development policies and programs--(i) to narrow gender gaps; and(ii) to improve the lives of women and girls.(5) Office.--The term ``Office'' means the Office of Global Women's Issues established by the Secretary of State pursuant to section 202(a).(6)\",\n",
       " \"An explicit and comprehensive national solution is needed to address this discrimination, including the full range of remedies available under the Civil Rights Act of 1964.(12) Discrimination based on sexual orientation includes discrimination based on an individual's actual or perceived romantic, emotional, physical, or sexual attraction to other persons, or lack thereof, on the basis of gender.\",\n",
       " \"Gender identity.--The term `gender identity' means the gender-related identity, appearance, mannerisms, or other gender-related characteristics of an individual, regardless of the individual's designated sex at birth.\",\n",
       " \"``(5) Sexual orientation.--The term `sexual orientation' means homosexuality, heterosexuality, or bisexuality.\",\n",
       " \"In general.--The term `gender transition procedure' means any medical or surgical service which seeks to alter or remove physiological or anatomical characteristics or features which are typical for the individual's biological sex, or to instill or create physiological or anatomical characteristics which resemble a sex different from the individual's birth sex, for the purpose of gender transition, including--``(I) physician's services and inpatient and outpatient hospital services, including gender transition surgery, and``(II) prescribed drugs related to gender transition, including puberty-blocking drugs, cross-sex hormones, or other mechanisms to promote the development of feminizing or masculinizing features (in the opposite sex).``(ii) Exceptions.--Such term does not include--``(I) services for treatment of a medically-verifiable disorder of sex development, including--``(aa) external biological sex characteristics which are irresolvably ambiguous, such as presence of 46 XX chromosomes with virilization, 46 XY chromosomes with undervirilization, or both ovarian and testicular tissue, or``(bb) other physician-diagnosed disorder of sexual development, with respect to which the physician has determined through genetic or biochemical testing that the individual does not have normal sex chromosome structure, sex steroid hormone production, or sex steroid hormone action for a biological male or biological female, or``(II) treatment of any infection, injury, disease, or disorder caused or exacerbated by the performance of any gender transition procedure, whether or not the gender transition procedure was performed in accordance with State and Federal law or whether not a deduction for expenses in connection with the gender transition procedure is allowable under this chapter.\",\n",
       " \"Gender.--The term `gender' means the psychological, behavioral, social, and cultural aspects of being male or female.\",\n",
       " \"Gender transition.--The term `gender transition' means the process in which an individual goes from identifying with and living as a gender that corresponds to his or her biological sex to identifying with and living as a gender different from his or her biological sex, and may involve social, legal, or physical changes.\",\n",
       " \"In general.--The term `gender transition surgery' means any surgical service, including genital or non-genital surgery, performed for the purpose of assisting an individual with a gender transition.\",\n",
       " \"hormones.--The term `cross-sex hormones' means testosterone or other androgens given to biological females at doses which are profoundly larger or more potent than would normally occur naturally in healthy biological females, and estrogen given to biological males at doses which are profoundly larger or more potent than would normally occur naturally in healthy biological males.\",\n",
       " \"hormones.--The term `cross-sex hormones' means testosterone or other androgens given to biological females at doses which are profoundly larger or more potent than would normally occur naturally in healthy biological females, and estrogen given to biological males at doses which are profoundly larger or more potent than would normally occur naturally in healthy biological males.\"]"
      ]
     },
     "execution_count": 192,
     "metadata": {},
     "output_type": "execute_result"
    }
   ],
   "source": [
    "matches[:10]"
   ]
  },
  {
   "cell_type": "code",
   "execution_count": 193,
   "id": "4baafe82",
   "metadata": {},
   "outputs": [],
   "source": [
    "# creat data frame, making columns of our lists\n",
    "\n",
    "import pandas as pd\n",
    "\n",
    "df = pd.DataFrame(\n",
    "    {'Match': matches,\n",
    "     'Definition': defs\n",
    "    })"
   ]
  },
  {
   "cell_type": "code",
   "execution_count": 196,
   "id": "c4f98b95",
   "metadata": {},
   "outputs": [
    {
     "name": "stdout",
     "output_type": "stream",
     "text": [
      "<class 'pandas.core.frame.DataFrame'>\n",
      "RangeIndex: 40 entries, 0 to 39\n",
      "Data columns (total 2 columns):\n",
      " #   Column      Non-Null Count  Dtype \n",
      "---  ------      --------------  ----- \n",
      " 0   Match       40 non-null     object\n",
      " 1   Definition  40 non-null     object\n",
      "dtypes: object(2)\n",
      "memory usage: 768.0+ bytes\n"
     ]
    }
   ],
   "source": [
    "df.info()"
   ]
  },
  {
   "cell_type": "code",
   "execution_count": 197,
   "id": "2fe57901",
   "metadata": {},
   "outputs": [
    {
     "data": {
      "text/html": [
       "<div>\n",
       "<style scoped>\n",
       "    .dataframe tbody tr th:only-of-type {\n",
       "        vertical-align: middle;\n",
       "    }\n",
       "\n",
       "    .dataframe tbody tr th {\n",
       "        vertical-align: top;\n",
       "    }\n",
       "\n",
       "    .dataframe thead th {\n",
       "        text-align: right;\n",
       "    }\n",
       "</style>\n",
       "<table border=\"1\" class=\"dataframe\">\n",
       "  <thead>\n",
       "    <tr style=\"text-align: right;\">\n",
       "      <th></th>\n",
       "      <th>Match</th>\n",
       "      <th>Definition</th>\n",
       "    </tr>\n",
       "  </thead>\n",
       "  <tbody>\n",
       "    <tr>\n",
       "      <th>0</th>\n",
       "      <td>Gender analysis.--The term ``gender analysis''...</td>\n",
       "      <td>gender analysis''--(A) means</td>\n",
       "    </tr>\n",
       "    <tr>\n",
       "      <th>1</th>\n",
       "      <td>An explicit and comprehensive national solutio...</td>\n",
       "      <td>orientation includes</td>\n",
       "    </tr>\n",
       "    <tr>\n",
       "      <th>2</th>\n",
       "      <td>Gender identity.--The term `gender identity' m...</td>\n",
       "      <td>gender identity' means</td>\n",
       "    </tr>\n",
       "    <tr>\n",
       "      <th>3</th>\n",
       "      <td>``(5) Sexual orientation.--The term `sexual or...</td>\n",
       "      <td>orientation' means</td>\n",
       "    </tr>\n",
       "    <tr>\n",
       "      <th>4</th>\n",
       "      <td>In general.--The term `gender transition proce...</td>\n",
       "      <td>gender transition procedure' means</td>\n",
       "    </tr>\n",
       "    <tr>\n",
       "      <th>5</th>\n",
       "      <td>Gender.--The term `gender' means the psycholog...</td>\n",
       "      <td>gender' means</td>\n",
       "    </tr>\n",
       "    <tr>\n",
       "      <th>6</th>\n",
       "      <td>Gender transition.--The term `gender transitio...</td>\n",
       "      <td>gender transition' means</td>\n",
       "    </tr>\n",
       "    <tr>\n",
       "      <th>7</th>\n",
       "      <td>In general.--The term `gender transition surge...</td>\n",
       "      <td>gender transition surgery' means</td>\n",
       "    </tr>\n",
       "    <tr>\n",
       "      <th>8</th>\n",
       "      <td>hormones.--The term `cross-sex hormones' means...</td>\n",
       "      <td>-sex hormones' means</td>\n",
       "    </tr>\n",
       "    <tr>\n",
       "      <th>9</th>\n",
       "      <td>hormones.--The term `cross-sex hormones' means...</td>\n",
       "      <td>sex hormones' means</td>\n",
       "    </tr>\n",
       "    <tr>\n",
       "      <th>10</th>\n",
       "      <td>Biological sex.--The term ``biological sex'' m...</td>\n",
       "      <td>sex'' means</td>\n",
       "    </tr>\n",
       "    <tr>\n",
       "      <th>11</th>\n",
       "      <td>Biological sex.--The term ``biological sex'' m...</td>\n",
       "      <td>biological sex'' means</td>\n",
       "    </tr>\n",
       "    <tr>\n",
       "      <th>12</th>\n",
       "      <td>Gender identity.--The term ``gender identity''...</td>\n",
       "      <td>gender identity'' means</td>\n",
       "    </tr>\n",
       "    <tr>\n",
       "      <th>13</th>\n",
       "      <td>In general.--The term ``gender transition'' in...</td>\n",
       "      <td>gender transition'' includes</td>\n",
       "    </tr>\n",
       "    <tr>\n",
       "      <th>14</th>\n",
       "      <td>Gender identity.--The term ``gender identity''...</td>\n",
       "      <td>gender identity'' means</td>\n",
       "    </tr>\n",
       "    <tr>\n",
       "      <th>15</th>\n",
       "      <td>Gender identity.--The term ``gender identity''...</td>\n",
       "      <td>gender identity'' means</td>\n",
       "    </tr>\n",
       "    <tr>\n",
       "      <th>16</th>\n",
       "      <td>Gender identity.--The term ``gender identity''...</td>\n",
       "      <td>gender equity infrastructure'' means</td>\n",
       "    </tr>\n",
       "    <tr>\n",
       "      <th>17</th>\n",
       "      <td>Sexual orientation.--The term ``sexual orienta...</td>\n",
       "      <td>orientation'' means</td>\n",
       "    </tr>\n",
       "    <tr>\n",
       "      <th>18</th>\n",
       "      <td>Gender identity.--The term ``gender identity''...</td>\n",
       "      <td>gender identity'' means</td>\n",
       "    </tr>\n",
       "    <tr>\n",
       "      <th>19</th>\n",
       "      <td>Sexual orientation.--The term ``sexual orienta...</td>\n",
       "      <td>orientation'' means</td>\n",
       "    </tr>\n",
       "    <tr>\n",
       "      <th>20</th>\n",
       "      <td>Gender identity.--The term ``gender identity''...</td>\n",
       "      <td>gender identity'' means</td>\n",
       "    </tr>\n",
       "    <tr>\n",
       "      <th>21</th>\n",
       "      <td>Sexual orientation.--The term ``sexual orienta...</td>\n",
       "      <td>orientation'' means</td>\n",
       "    </tr>\n",
       "    <tr>\n",
       "      <th>22</th>\n",
       "      <td>Biological sex.--The term `biological sex' mea...</td>\n",
       "      <td>sex' means</td>\n",
       "    </tr>\n",
       "    <tr>\n",
       "      <th>23</th>\n",
       "      <td>Biological sex.--The term `biological sex' mea...</td>\n",
       "      <td>biological sex' means</td>\n",
       "    </tr>\n",
       "    <tr>\n",
       "      <th>24</th>\n",
       "      <td>Gender identity.--The term `gender identity' m...</td>\n",
       "      <td>gender identity' means</td>\n",
       "    </tr>\n",
       "    <tr>\n",
       "      <th>25</th>\n",
       "      <td>Gender identity.--The term ``gender identity''...</td>\n",
       "      <td>gender identity'' means</td>\n",
       "    </tr>\n",
       "    <tr>\n",
       "      <th>26</th>\n",
       "      <td>Sexual orientation.--The term ``sexual orienta...</td>\n",
       "      <td>orientation'' means</td>\n",
       "    </tr>\n",
       "    <tr>\n",
       "      <th>27</th>\n",
       "      <td>Gender expression.--The term ``gender expressi...</td>\n",
       "      <td>gender expression'' means</td>\n",
       "    </tr>\n",
       "    <tr>\n",
       "      <th>28</th>\n",
       "      <td>Gender identity.--The term ``gender identity''...</td>\n",
       "      <td>gender identity'' means</td>\n",
       "    </tr>\n",
       "    <tr>\n",
       "      <th>29</th>\n",
       "      <td>Sex education.--The term ``sex education'' mea...</td>\n",
       "      <td>sex education'' means</td>\n",
       "    </tr>\n",
       "    <tr>\n",
       "      <th>30</th>\n",
       "      <td>Sexual orientation.--The term ``sexual orienta...</td>\n",
       "      <td>orientation'' means</td>\n",
       "    </tr>\n",
       "    <tr>\n",
       "      <th>31</th>\n",
       "      <td>Gender identity.--The term ``gender identity''...</td>\n",
       "      <td>gender identity'' means</td>\n",
       "    </tr>\n",
       "    <tr>\n",
       "      <th>32</th>\n",
       "      <td>Member of a vulnerable group.--The term ``memb...</td>\n",
       "      <td>orientation'' means</td>\n",
       "    </tr>\n",
       "    <tr>\n",
       "      <th>33</th>\n",
       "      <td>Gender identity.--The term `gender identity' m...</td>\n",
       "      <td>gender identity' means</td>\n",
       "    </tr>\n",
       "    <tr>\n",
       "      <th>34</th>\n",
       "      <td>Sexual orientation.--The term `sexual orientat...</td>\n",
       "      <td>orientation' means</td>\n",
       "    </tr>\n",
       "    <tr>\n",
       "      <th>35</th>\n",
       "      <td>908A. DEFINITIONS.``For purposes of this title...</td>\n",
       "      <td>gender identity'--``(A) means</td>\n",
       "    </tr>\n",
       "    <tr>\n",
       "      <th>36</th>\n",
       "      <td>908A. DEFINITIONS.``For purposes of this title...</td>\n",
       "      <td>sex' includes</td>\n",
       "    </tr>\n",
       "    <tr>\n",
       "      <th>37</th>\n",
       "      <td>the term `recipient' means an entity described...</td>\n",
       "      <td>orientation' includes</td>\n",
       "    </tr>\n",
       "    <tr>\n",
       "      <th>38</th>\n",
       "      <td>Biological sex.--The term ``biological sex'' m...</td>\n",
       "      <td>sex'' means</td>\n",
       "    </tr>\n",
       "    <tr>\n",
       "      <th>39</th>\n",
       "      <td>Biological sex.--The term ``biological sex'' m...</td>\n",
       "      <td>biological sex'' means</td>\n",
       "    </tr>\n",
       "  </tbody>\n",
       "</table>\n",
       "</div>"
      ],
      "text/plain": [
       "                                                Match  \\\n",
       "0   Gender analysis.--The term ``gender analysis''...   \n",
       "1   An explicit and comprehensive national solutio...   \n",
       "2   Gender identity.--The term `gender identity' m...   \n",
       "3   ``(5) Sexual orientation.--The term `sexual or...   \n",
       "4   In general.--The term `gender transition proce...   \n",
       "5   Gender.--The term `gender' means the psycholog...   \n",
       "6   Gender transition.--The term `gender transitio...   \n",
       "7   In general.--The term `gender transition surge...   \n",
       "8   hormones.--The term `cross-sex hormones' means...   \n",
       "9   hormones.--The term `cross-sex hormones' means...   \n",
       "10  Biological sex.--The term ``biological sex'' m...   \n",
       "11  Biological sex.--The term ``biological sex'' m...   \n",
       "12  Gender identity.--The term ``gender identity''...   \n",
       "13  In general.--The term ``gender transition'' in...   \n",
       "14  Gender identity.--The term ``gender identity''...   \n",
       "15  Gender identity.--The term ``gender identity''...   \n",
       "16  Gender identity.--The term ``gender identity''...   \n",
       "17  Sexual orientation.--The term ``sexual orienta...   \n",
       "18  Gender identity.--The term ``gender identity''...   \n",
       "19  Sexual orientation.--The term ``sexual orienta...   \n",
       "20  Gender identity.--The term ``gender identity''...   \n",
       "21  Sexual orientation.--The term ``sexual orienta...   \n",
       "22  Biological sex.--The term `biological sex' mea...   \n",
       "23  Biological sex.--The term `biological sex' mea...   \n",
       "24  Gender identity.--The term `gender identity' m...   \n",
       "25  Gender identity.--The term ``gender identity''...   \n",
       "26  Sexual orientation.--The term ``sexual orienta...   \n",
       "27  Gender expression.--The term ``gender expressi...   \n",
       "28  Gender identity.--The term ``gender identity''...   \n",
       "29  Sex education.--The term ``sex education'' mea...   \n",
       "30  Sexual orientation.--The term ``sexual orienta...   \n",
       "31  Gender identity.--The term ``gender identity''...   \n",
       "32  Member of a vulnerable group.--The term ``memb...   \n",
       "33  Gender identity.--The term `gender identity' m...   \n",
       "34  Sexual orientation.--The term `sexual orientat...   \n",
       "35  908A. DEFINITIONS.``For purposes of this title...   \n",
       "36  908A. DEFINITIONS.``For purposes of this title...   \n",
       "37  the term `recipient' means an entity described...   \n",
       "38  Biological sex.--The term ``biological sex'' m...   \n",
       "39  Biological sex.--The term ``biological sex'' m...   \n",
       "\n",
       "                              Definition  \n",
       "0           gender analysis''--(A) means  \n",
       "1                   orientation includes  \n",
       "2                 gender identity' means  \n",
       "3                     orientation' means  \n",
       "4     gender transition procedure' means  \n",
       "5                          gender' means  \n",
       "6               gender transition' means  \n",
       "7       gender transition surgery' means  \n",
       "8                   -sex hormones' means  \n",
       "9                    sex hormones' means  \n",
       "10                           sex'' means  \n",
       "11                biological sex'' means  \n",
       "12               gender identity'' means  \n",
       "13          gender transition'' includes  \n",
       "14               gender identity'' means  \n",
       "15               gender identity'' means  \n",
       "16  gender equity infrastructure'' means  \n",
       "17                   orientation'' means  \n",
       "18               gender identity'' means  \n",
       "19                   orientation'' means  \n",
       "20               gender identity'' means  \n",
       "21                   orientation'' means  \n",
       "22                            sex' means  \n",
       "23                 biological sex' means  \n",
       "24                gender identity' means  \n",
       "25               gender identity'' means  \n",
       "26                   orientation'' means  \n",
       "27             gender expression'' means  \n",
       "28               gender identity'' means  \n",
       "29                 sex education'' means  \n",
       "30                   orientation'' means  \n",
       "31               gender identity'' means  \n",
       "32                   orientation'' means  \n",
       "33                gender identity' means  \n",
       "34                    orientation' means  \n",
       "35         gender identity'--``(A) means  \n",
       "36                         sex' includes  \n",
       "37                 orientation' includes  \n",
       "38                           sex'' means  \n",
       "39                biological sex'' means  "
      ]
     },
     "execution_count": 197,
     "metadata": {},
     "output_type": "execute_result"
    }
   ],
   "source": [
    "df"
   ]
  },
  {
   "cell_type": "code",
   "execution_count": 198,
   "id": "634bd97c",
   "metadata": {},
   "outputs": [
    {
     "data": {
      "text/plain": [
       "<bound method DataFrame.drop_duplicates of                                                 Match  \\\n",
       "0   Gender analysis.--The term ``gender analysis''...   \n",
       "1   An explicit and comprehensive national solutio...   \n",
       "2   Gender identity.--The term `gender identity' m...   \n",
       "3   ``(5) Sexual orientation.--The term `sexual or...   \n",
       "4   In general.--The term `gender transition proce...   \n",
       "5   Gender.--The term `gender' means the psycholog...   \n",
       "6   Gender transition.--The term `gender transitio...   \n",
       "7   In general.--The term `gender transition surge...   \n",
       "8   hormones.--The term `cross-sex hormones' means...   \n",
       "9   hormones.--The term `cross-sex hormones' means...   \n",
       "10  Biological sex.--The term ``biological sex'' m...   \n",
       "11  Biological sex.--The term ``biological sex'' m...   \n",
       "12  Gender identity.--The term ``gender identity''...   \n",
       "13  In general.--The term ``gender transition'' in...   \n",
       "14  Gender identity.--The term ``gender identity''...   \n",
       "15  Gender identity.--The term ``gender identity''...   \n",
       "16  Gender identity.--The term ``gender identity''...   \n",
       "17  Sexual orientation.--The term ``sexual orienta...   \n",
       "18  Gender identity.--The term ``gender identity''...   \n",
       "19  Sexual orientation.--The term ``sexual orienta...   \n",
       "20  Gender identity.--The term ``gender identity''...   \n",
       "21  Sexual orientation.--The term ``sexual orienta...   \n",
       "22  Biological sex.--The term `biological sex' mea...   \n",
       "23  Biological sex.--The term `biological sex' mea...   \n",
       "24  Gender identity.--The term `gender identity' m...   \n",
       "25  Gender identity.--The term ``gender identity''...   \n",
       "26  Sexual orientation.--The term ``sexual orienta...   \n",
       "27  Gender expression.--The term ``gender expressi...   \n",
       "28  Gender identity.--The term ``gender identity''...   \n",
       "29  Sex education.--The term ``sex education'' mea...   \n",
       "30  Sexual orientation.--The term ``sexual orienta...   \n",
       "31  Gender identity.--The term ``gender identity''...   \n",
       "32  Member of a vulnerable group.--The term ``memb...   \n",
       "33  Gender identity.--The term `gender identity' m...   \n",
       "34  Sexual orientation.--The term `sexual orientat...   \n",
       "35  908A. DEFINITIONS.``For purposes of this title...   \n",
       "36  908A. DEFINITIONS.``For purposes of this title...   \n",
       "37  the term `recipient' means an entity described...   \n",
       "38  Biological sex.--The term ``biological sex'' m...   \n",
       "39  Biological sex.--The term ``biological sex'' m...   \n",
       "\n",
       "                              Definition  \n",
       "0           gender analysis''--(A) means  \n",
       "1                   orientation includes  \n",
       "2                 gender identity' means  \n",
       "3                     orientation' means  \n",
       "4     gender transition procedure' means  \n",
       "5                          gender' means  \n",
       "6               gender transition' means  \n",
       "7       gender transition surgery' means  \n",
       "8                   -sex hormones' means  \n",
       "9                    sex hormones' means  \n",
       "10                           sex'' means  \n",
       "11                biological sex'' means  \n",
       "12               gender identity'' means  \n",
       "13          gender transition'' includes  \n",
       "14               gender identity'' means  \n",
       "15               gender identity'' means  \n",
       "16  gender equity infrastructure'' means  \n",
       "17                   orientation'' means  \n",
       "18               gender identity'' means  \n",
       "19                   orientation'' means  \n",
       "20               gender identity'' means  \n",
       "21                   orientation'' means  \n",
       "22                            sex' means  \n",
       "23                 biological sex' means  \n",
       "24                gender identity' means  \n",
       "25               gender identity'' means  \n",
       "26                   orientation'' means  \n",
       "27             gender expression'' means  \n",
       "28               gender identity'' means  \n",
       "29                 sex education'' means  \n",
       "30                   orientation'' means  \n",
       "31               gender identity'' means  \n",
       "32                   orientation'' means  \n",
       "33                gender identity' means  \n",
       "34                    orientation' means  \n",
       "35         gender identity'--``(A) means  \n",
       "36                         sex' includes  \n",
       "37                 orientation' includes  \n",
       "38                           sex'' means  \n",
       "39                biological sex'' means  >"
      ]
     },
     "execution_count": 198,
     "metadata": {},
     "output_type": "execute_result"
    }
   ],
   "source": [
    "# dropping any duplicates\n",
    "\n",
    "df.drop_duplicates"
   ]
  },
  {
   "cell_type": "code",
   "execution_count": 199,
   "id": "504be70a",
   "metadata": {},
   "outputs": [],
   "source": [
    "# saving to a csv file\n",
    "\n",
    "df.to_csv('test/defs.csv')"
   ]
  },
  {
   "cell_type": "code",
   "execution_count": null,
   "id": "e90b82a2",
   "metadata": {},
   "outputs": [],
   "source": []
  }
 ],
 "metadata": {
  "kernelspec": {
   "display_name": "Python 3 (ipykernel)",
   "language": "python",
   "name": "python3"
  },
  "language_info": {
   "codemirror_mode": {
    "name": "ipython",
    "version": 3
   },
   "file_extension": ".py",
   "mimetype": "text/x-python",
   "name": "python",
   "nbconvert_exporter": "python",
   "pygments_lexer": "ipython3",
   "version": "3.11.0"
  }
 },
 "nbformat": 4,
 "nbformat_minor": 5
}
