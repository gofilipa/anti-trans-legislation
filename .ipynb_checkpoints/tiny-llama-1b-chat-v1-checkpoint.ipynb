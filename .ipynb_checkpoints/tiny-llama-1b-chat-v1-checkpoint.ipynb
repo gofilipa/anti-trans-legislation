{
 "cells": [
  {
   "cell_type": "markdown",
   "id": "006cd10e",
   "metadata": {},
   "source": [
    "# [TinyLlama/TinyLlama-1.1B-Chat-v1.0](https://huggingface.co/TinyLlama/TinyLlama-1.1B-Chat-v1.0)\n",
    "On fine-tuning: https://kaitchup.substack.com/p/a-guide-on-hyperparameters-and-training"
   ]
  },
  {
   "cell_type": "code",
   "execution_count": 8,
   "id": "d6e95f26",
   "metadata": {},
   "outputs": [],
   "source": [
    "import torch\n",
    "from transformers import pipeline, AutoModelForCausalLM, AutoTokenizer"
   ]
  },
  {
   "cell_type": "code",
   "execution_count": 28,
   "id": "c25886ed",
   "metadata": {},
   "outputs": [],
   "source": [
    "model = AutoModelForCausalLM.from_pretrained('./baby/')"
   ]
  },
  {
   "cell_type": "code",
   "execution_count": 29,
   "id": "c81b2854",
   "metadata": {},
   "outputs": [],
   "source": [
    "tokenizer = AutoTokenizer.from_pretrained(\"./baby/\")"
   ]
  },
  {
   "cell_type": "code",
   "execution_count": 30,
   "id": "889cb0ca",
   "metadata": {},
   "outputs": [],
   "source": [
    "pipe = pipeline('text-generation', model=model, tokenizer=tokenizer, torch_dtype=torch.bfloat16, device_map=\"auto\")"
   ]
  },
  {
   "cell_type": "code",
   "execution_count": 31,
   "id": "42f11555",
   "metadata": {},
   "outputs": [],
   "source": [
    "messages = [\n",
    "    {\n",
    "        \"role\": \"teacher\",\n",
    "        \"content\": \"You are a friendly teacher\",\n",
    "    },\n",
    "    {\"role\": \"user\", \"content\": \"What is gender?\"},\n",
    "]"
   ]
  },
  {
   "cell_type": "code",
   "execution_count": 32,
   "id": "efe2700c",
   "metadata": {},
   "outputs": [],
   "source": [
    "prompt = pipe.tokenizer.apply_chat_template(messages, tokenize=False, add_generation_prompt=True)"
   ]
  },
  {
   "cell_type": "code",
   "execution_count": 33,
   "id": "a60113a4",
   "metadata": {},
   "outputs": [],
   "source": [
    "outputs = pipe(prompt, max_new_tokens=256, do_sample=True, temperature=0.7, top_k=50, top_p=0.95)"
   ]
  },
  {
   "cell_type": "markdown",
   "id": "6c9d1a44",
   "metadata": {},
   "source": [
    "## 5 epochs, 4 batch size\n",
    "\n",
    "```python\n",
    "training_params = TrainingArguments(\n",
    "    output_dir= \"./results\",\n",
    "    num_train_epochs = 5,\n",
    "    per_device_train_batch_size = 4, # defaults to 8, but should lower if memory issues\n",
    "    # gradient_accumulation_steps = 1,\n",
    "    learning_rate= 2e-4,\n",
    "    weight_decay= 0.001,\n",
    ")\n",
    "```"
   ]
  },
  {
   "cell_type": "markdown",
   "id": "f27c3993",
   "metadata": {},
   "source": [
    "[{'generated_text': '<|user|>\\nWhat is gender?</s>\\n<|assistant|>\\n the occurr of, or individual the,,,,ological means or or,; birth, the, term meansads an term of of. of and, of,. and, sex,,ive,, means term or the, to. gender of,, at, bi of h, of ority. h toological, ative and, or, in of, means or means. theity other. other,, at the., to at means the sex;.,,ads, a term,, or sex gen term of in, the and, or,,, and, of term or, toiveological,, gender sex, orological and, of, the, in or an as, term orproduct, or,ological,- the on an an,, gender of, an, and,, and other term other term gender. of,, or, and of, meansing.,, sex,, theological,, sex means,, as, the. and gender, of bi,ads on, of, and re or to and of or suchologicality, as or, term,ity means,,, or sexological,, as and gender, and. of, theive and genderity'}]"
   ]
  },
  {
   "cell_type": "markdown",
   "id": "68e0ae7b",
   "metadata": {},
   "source": [
    "## 5 epochs, 8 batch size, 2 steps"
   ]
  },
  {
   "cell_type": "markdown",
   "id": "76adce1d",
   "metadata": {},
   "source": [
    "```python\n",
    "training_params = TrainingArguments(\n",
    "    output_dir= \"./results\",\n",
    "    num_train_epochs = 5,\n",
    "    per_device_train_batch_size = 4, # defaults to 8, but should lower if memory issues\n",
    "    gradient_accumulation_steps = 2,\n",
    "    learning_rate= 2e-4,\n",
    "    weight_decay= 0.001,\n",
    ")\n",
    "```"
   ]
  },
  {
   "cell_type": "markdown",
   "id": "ed09a2d3",
   "metadata": {},
   "source": [
    "[{'generated_text': '<|user|>\\nWhat is gender?</s>\\n<|assistant|>\\n ofonos to at-ological the or, and of, sex as means, of sex and or birthual and on or,,, sex male, onosological, or male or or- and and, male or,es in, and as,, bi, genderon sex or,, means,ological gender, gender and gender or, of or, gender gender gender sex sex, orom biological,,, sex capacity gender gender, of,, gender of and andon,ual andological sex sexorm birth and, of ofive related gender gender birth, of birth in the gender,; genos at or bi or the. of and, gender of,, sexual or,,, birth sex means sex or., gen the, or and sex, means bi- sex and gen,, or sex gender gender pre biological, andual sex orologicalological or bi and as orological sex,; and, sexual,- of sex, sex; birth- or female, and theologicalological or, gender, genderual andones, or related of and,, genderive male or-orm sex as ases,, and, gender sex gender,ing, orological sex, and, sex,, sex'}]"
   ]
  },
  {
   "cell_type": "markdown",
   "id": "656539f0",
   "metadata": {},
   "source": [
    "## 5 epochs, 8 batch size, 1 step\n"
   ]
  },
  {
   "cell_type": "markdown",
   "id": "7f09c11b",
   "metadata": {},
   "source": [
    "```python\n",
    "training_params = TrainingArguments(\n",
    "    output_dir=\"./results\",\n",
    "    num_train_epochs=5,\n",
    "    per_device_train_batch_size=8, # defaults to 8, but should lower if memory issues\n",
    "    gradient_accumulation_steps=1,\n",
    "    learning_rate=2e-4,\n",
    "    weight_decay=0.001,\n",
    ")\n",
    "```"
   ]
  },
  {
   "cell_type": "markdown",
   "id": "db3920ae",
   "metadata": {},
   "source": [
    "[{'generated_text': '<|user|>\\nWhat is gender?</s>\\n<|assistant|>\\n other; the, an of identity of individual gender identity other or term. present meansorm gender term, or of,,, means of theiveive,, identity means the means the, bi of, of, individual term or means, birthological or gender and term or,; sexos, genom or term gender toual, as; otheres,,, and of birth individualological terming sex, the birth or orual gender, individual,, sex bi such and,orm, means sex;;ologicalive the bi male identity the,ity or term,ological or means, term term Theual. identity as the means the anual,osation term. or, gender, and, individual or sex or to andive or bi and means an; bi or at.,- term., of an,,, or term term individual,,, means other The of means toity as of means an,ive the, at,, of bi, as; term,os means individual as or or the such other.ive related the, of term,, meansive of gender meansive or, the birth genderive means, individual as, means, gender, term,, to the, male,, The term as or'}]"
   ]
  },
  {
   "cell_type": "code",
   "execution_count": null,
   "id": "5726ff97",
   "metadata": {},
   "outputs": [],
   "source": []
  }
 ],
 "metadata": {
  "kernelspec": {
   "display_name": "torch-env [~/.conda/envs/torch-env/]",
   "language": "python",
   "name": "conda_torch-env"
  },
  "language_info": {
   "codemirror_mode": {
    "name": "ipython",
    "version": 3
   },
   "file_extension": ".py",
   "mimetype": "text/x-python",
   "name": "python",
   "nbconvert_exporter": "python",
   "pygments_lexer": "ipython3",
   "version": "3.11.9"
  }
 },
 "nbformat": 4,
 "nbformat_minor": 5
}
